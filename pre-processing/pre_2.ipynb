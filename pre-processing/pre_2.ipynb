{
 "cells": [
  {
   "cell_type": "code",
   "execution_count": null,
   "id": "ca6ab3ac",
   "metadata": {},
   "outputs": [
    {
     "name": "stdout",
     "output_type": "stream",
     "text": [
      "Saved: integrated_data_transformed.xlsx with shape: (499, 21)\n"
     ]
    }
   ],
   "source": [
    "import pandas as pd\n",
    "import numpy as np\n",
    "import unicodedata, re\n",
    "\n",
    "IN_PATH = \"integrated_data.xlsx\"\n",
    "OUT_PATH = \"integrated_data_transformed.xlsx\"\n",
    "\n",
    "def strip_accents_lower(s):\n",
    "    \"\"\"Dùng cho matching/dedup: bỏ dấu + lower (KHÔNG ghi đè cột gốc).\"\"\"\n",
    "    if pd.isna(s): \n",
    "        return s\n",
    "    s = str(s).strip().lower()\n",
    "    nfkd = unicodedata.normalize(\"NFKD\", s)\n",
    "    return \"\".join(c for c in nfkd if not unicodedata.combining(c))\n",
    "\n",
    "# ========== LOAD ==========\n",
    "df = pd.read_excel(IN_PATH)\n",
    "\n",
    "# ========== TRANSFORMATIONS ==========\n",
    "# 1) Chuẩn hoá hỗ trợ matching (không ảnh hưởng hiển thị)\n",
    "if \"name\" in df.columns:\n",
    "    df[\"name_norm\"] = df[\"name\"].astype(str).map(strip_accents_lower)\n",
    "if \"brand\" in df.columns:\n",
    "    df[\"brand_norm\"] = df[\"brand\"].astype(str).map(strip_accents_lower)\n",
    "if \"category_l1\" in df.columns:\n",
    "    df[\"category_l1_norm\"] = df[\"category_l1\"].astype(str).map(strip_accents_lower)\n",
    "\n",
    "# 2) Làm sạch/chuẩn hoá discount\n",
    "if \"discount_percent\" in df.columns:\n",
    "    dp = pd.to_numeric(df[\"discount_percent\"], errors=\"coerce\")\n",
    "    df[\"discount_percent_clean\"] = dp.clip(lower=-5, upper=100).round(2)\n",
    "    df[\"discount_flag\"] = df[\"discount_percent_clean\"].fillna(0).gt(0)\n",
    "\n",
    "# 3) Đặc trưng từ price / rating\n",
    "if \"price\" in df.columns:\n",
    "    price = pd.to_numeric(df[\"price\"], errors=\"coerce\")\n",
    "    df[\"price_log1p\"] = np.where(price > 0, np.log1p(price), np.nan)\n",
    "\n",
    "if \"rating_average\" in df.columns:\n",
    "    df[\"rating_round_1\"] = pd.to_numeric(df[\"rating_average\"], errors=\"coerce\").round(1)\n",
    "\n",
    "# 4) Đặc trưng chuỗi tên\n",
    "if \"name\" in df.columns:\n",
    "    df[\"name_len\"] = df[\"name\"].astype(str).str.len()\n",
    "    df[\"name_word_count\"] = df[\"name\"].astype(str).str.split().str.len()\n",
    "\n",
    "# ========== REORDER (tùy chọn, giữ style từ integration) ==========\n",
    "front_cols = [c for c in [\"category_l1\",\"price\",\"discount_percent\",\"rating_average\",\"name\",\"brand\",\"seller_id\"] if c in df.columns]\n",
    "end_cols   = [c for c in [\"image_path\",\"thumbnail_url\",\"impression_info_0_metadata_delivery_zone\"] if c in df.columns]\n",
    "others     = [c for c in df.columns if c not in set(front_cols + end_cols)]\n",
    "df = df[front_cols + others + end_cols]\n",
    "\n",
    "# ========== SAVE ==========\n",
    "df.to_excel(OUT_PATH, index=False)\n",
    "print(\"Saved:\", OUT_PATH, \"with shape:\", df.shape)\n"
   ]
  }
 ],
 "metadata": {
  "language_info": {
   "name": "python"
  }
 },
 "nbformat": 4,
 "nbformat_minor": 5
}
