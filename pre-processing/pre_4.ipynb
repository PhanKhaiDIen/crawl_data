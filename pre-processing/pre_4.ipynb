{
 "cells": [
  {
   "cell_type": "markdown",
   "id": "73d2b915",
   "metadata": {},
   "source": [
    "Encoding"
   ]
  },
  {
   "cell_type": "code",
   "execution_count": 6,
   "id": "a43e339d",
   "metadata": {},
   "outputs": [],
   "source": [
    "import pandas as pd\n",
    "import numpy as np\n",
    "import re"
   ]
  },
  {
   "cell_type": "code",
   "execution_count": 7,
   "id": "aca45f18",
   "metadata": {},
   "outputs": [],
   "source": [
    "df = pd.read_excel('data_converted.xlsx')"
   ]
  },
  {
   "cell_type": "code",
   "execution_count": 8,
   "id": "23f1555f",
   "metadata": {},
   "outputs": [],
   "source": [
    "df = pd.get_dummies(df, columns=['category_l1'], prefix='cat')"
   ]
  },
  {
   "cell_type": "code",
   "execution_count": 9,
   "id": "9915f104",
   "metadata": {},
   "outputs": [],
   "source": [
    "rating_mapping = {'low':0, 'med': 1, 'high': 2}\n",
    "qty_mapping = {'low':0, 'mid':1, 'high': 2}\n",
    "\n",
    "df['rating_encoded'] = df['rating_level'].map(rating_mapping)\n",
    "df['qty_encoded'] = df['qty_bucket'].map(qty_mapping)\n",
    "\n",
    "df = df.drop(['rating_level', 'qty_bucket'], axis = 1)\n"
   ]
  },
  {
   "cell_type": "code",
   "execution_count": 10,
   "id": "8ee1caad",
   "metadata": {},
   "outputs": [],
   "source": [
    "df.to_excel(\"encoding_data.xlsx\", index = False)"
   ]
  }
 ],
 "metadata": {
  "kernelspec": {
   "display_name": "Python 3",
   "language": "python",
   "name": "python3"
  },
  "language_info": {
   "codemirror_mode": {
    "name": "ipython",
    "version": 3
   },
   "file_extension": ".py",
   "mimetype": "text/x-python",
   "name": "python",
   "nbconvert_exporter": "python",
   "pygments_lexer": "ipython3",
   "version": "3.12.7"
  }
 },
 "nbformat": 4,
 "nbformat_minor": 5
}
