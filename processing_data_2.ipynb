{
 "cells": [
  {
   "cell_type": "code",
   "execution_count": 1,
   "id": "751a536a",
   "metadata": {},
   "outputs": [],
   "source": [
    "import pandas as pd"
   ]
  },
  {
   "cell_type": "code",
   "execution_count": 2,
   "id": "7c2a59dd",
   "metadata": {},
   "outputs": [],
   "source": [
    "df = pd.read_excel(\"data_cleaned_1.xlsx\")"
   ]
  },
  {
   "cell_type": "markdown",
   "id": "38ab179e",
   "metadata": {},
   "source": [
    "# Chuẩn hoá dữ liệu"
   ]
  },
  {
   "cell_type": "markdown",
   "id": "714d1f96",
   "metadata": {},
   "source": [
    "> Làm gọn tên sản phẩm"
   ]
  },
  {
   "cell_type": "markdown",
   "id": "e42046bd",
   "metadata": {},
   "source": [
    "Đồng hồ thông minh"
   ]
  },
  {
   "cell_type": "code",
   "execution_count": 3,
   "id": "6f26498b",
   "metadata": {},
   "outputs": [],
   "source": [
    "mask_smartwatch = df['category'].str.contains('đồng hồ thông minh', case=False, na=False)"
   ]
  },
  {
   "cell_type": "code",
   "execution_count": 4,
   "id": "e9b625d4",
   "metadata": {},
   "outputs": [],
   "source": [
    "name_map = {\n",
    "    ' Đồng Hồ Thông Minh Trẻ em AMA Q12S Model mới nhất ra mắt tháng 12/2021 - Hàng nhập khẩu': 'AMA Q12S',\n",
    "    'Đồng hồ Thông minh Trẻ em AMA Watch Q15 lắp SIM nghe gọi 2 chiều 3 màu Xanh Hồng Đen Hàng chinh hãng': 'AMA Watch Q15',\n",
    "    'Đồng hồ Thông minh Mini có Rung Gắn sim Định vị GPS, Wifi Đo huyết áp Nhịp tim nhắc nhở Vận động gọi Video call AMA Watch FA91S - Hàng nhập khẩu': 'AMA Watch FA91S',\n",
    "    'Đồng hồ Thông minh Trẻ em Học sinh Tiểu học THCS THPT Chống nước Lắp sim Định vị Kép Smart Watch AMA HW13 Hàng nhập khẩu': 'AMA HW13',\n",
    "    'Đồng hồ Thông minh Lắp Sim Định vị GPS Google kết nối Wifi 4G Blueltooth xem được Video Youtube TikTok tải App FB Messenger Skype WhatsApp Viber Wechat Kakao Line Tele chơi Game AMA Smart watch TK Android 8.1 cho Trẻ em Người lớn Hàng nhập khẩu': 'AMA TK Watch Android 8.1',\n",
    "    'Apple Watch SE 2024 GPS (Viền nhôm, dây cao su)': 'Apple Watch SE 2024 viền nhôm dây cao su',\n",
    "    'Vòng Đeo Tay Thông Minh Xiaomi Smart Band 9 Active – Hàng Chính Hãng': 'Xiaomi Smart Band 9 Active',\n",
    "    'Garmin Forerunner 570 47mm dây silicone': 'Garmin Forerunner 570 47mm',\n",
    "    'Amazfit Active 2 Square Sapphire 43.3mm dây daMẫu mới': 'Amazfit Active 2 Square 43.3mm dây da',\n",
    "    'Garmin Forerunner 570 42.4mm dây silicone': 'Garmin Forerunner 570 42.4mm',\n",
    "    'Đồng Hồ Thông Minh Xiaomi Redmi Watch 5 ACTIVE – Hàng Chính Hãng': 'Xiaomi Redmi Watch 5 Active',\n",
    "    'Vòng Đeo Tay Thông Minh Xiaomi Mi Band 10 - Bản Quốc Tế - Hàng Chính Hãng': 'Xiaomi Mi Band 10',\n",
    "    'Apple Watch Series 10 GPS (Viền nhôm, dây cao su)': 'Apple Watch Series 10 viền nhôm dây cao su',\n",
    "    'Samsung Galaxy Watch Ultra LTE 47mm (2025) dây silicone': 'Samsung Galaxy Watch Ultra 47mm dây silicone',\n",
    "    'Đồng Hồ Thông Minh Trẻ Em MAI DUY Y85S, Lắp Sim Nghe Gọi - Định Vị Cảnh Báo Nguy Hiểm, Chống Nước  -Hàng Nhập Khẩu': 'MAI DUY Y85S',\n",
    "    'Đồng Hồ Thông Minh Trẻ Em AMA Watch Q12B Hàng nhập khẩu': 'AMA Watch Q12B',\n",
    "    'Huawei Watch 5 46mm dây cao su': 'Huawei Watch 5 46mm dây cao su',\n",
    "    'Samsung Galaxy Watch8 LTE 40mm dây siliconeMẫu mới': 'Samsung Galaxy Watch8 40mm dây silicone',\n",
    "    'Huawei Watch 5 46mm dây compositeMẫu mới': 'Huawei Watch 5 46mm dây composite',\n",
    "    'Garmin Venu X1 Sapphire 51.2mm dây nylonMẫu mới': 'Garmin Venu X1 51.2mm dây nylon',\n",
    "    'Garmin Forerunner 570 47mm dây silicone': 'Garmin Forerunner 570 47mm dây silicone',\n",
    "    'Amazfit Active 2 Square Sapphire 43.3mm dây daMẫu mới': 'Amazfit Active 2 Square 43.3mm dây da',\n",
    "    'Garmin Forerunner 570 42.4mm dây silicone': 'Garmin Forerunner 570 42.4mm',\n",
    "    'Samsung Galaxy Watch Ultra LTE 47mm (2025) dây silicone': 'Samsung Galaxy Watch Ultra 47mm dây silicone',\n",
    "    'Samsung Galaxy Watch8 LTE 40mm dây siliconeMẫu mới': 'Samsung Galaxy Watch8 40mm dây silicone',\n",
    "    'Đồng hồ Thông minh gắn Sim nghe gọi Chống nước IP67 Gọi Video call Định vị GPS, WIfi dàn cho Trẻ em học sinh cấp 1 2 5 6 7 8 9 10 11 12 tuổi AMA Watch D32 Hàng nhập khẩu': 'AMA Watch D32',\n",
    "    'Đồng Hồ Định Vị Trẻ Em Wonlex KT18 - Hàng Chính Hãng': 'Wonlex KT18',\n",
    "    'Đồng hồ thông minh Samsung Galaxy Watch5 40mm SM-R900N - Hàng chính hãng': 'Samsung Galaxy Watch5 SM-R900N 40mm',\n",
    "    'Đồng hồ Thông minh Chống nước IP67 Dành cho Trẻ em nhuẩn AMA Watch Q16S Hàng chính hãng': 'AMA Watch Q16S',\n",
    "    'Đồng Hồ Thông Minh cho Trẻ em 6 tuổi, 7 tuổi, 8 tuổi, 9 tuổi, 10 tuổi, 11 tuổi Lắp Sim Độc lập nghe gọi 2 chiều AMA Watch Y92 Chống nước Định vị Wifi độ chính xác cao Hàng nhập khẩu': 'AMA Watch Y92',\n",
    "    'Đồng Hồ Thông Minh AMA Watch Nam Nữ chống nước | Gọi điện thoại Xem tin nhắn Theo dõi Sức khỏe vận động Thiết kế nhỏ gọn Thời trang Hàng nhập khẩu': 'AMA Watch D06',\n",
    "    'Đồng Hồ Thông Minh Nữ AMA Watch S27 Thời trang Kết nối Bluetooth Theo dõi Sức khỏe Vận động Màn hình tròn Hàng chính hãng': 'AMA Watch S27'\n",
    "}\n",
    "\n",
    "# Tạo cột mới 'products' bằng cách ánh xạ product_name sang name_map\n",
    "df.loc[mask_smartwatch, 'product_name'] = df.loc[mask_smartwatch, 'product_name'].map(name_map)"
   ]
  },
  {
   "cell_type": "code",
   "execution_count": 5,
   "id": "167fc89f",
   "metadata": {},
   "outputs": [],
   "source": [
    "df_watch = df[mask_smartwatch].copy()"
   ]
  },
  {
   "cell_type": "code",
   "execution_count": 6,
   "id": "0287a352",
   "metadata": {},
   "outputs": [],
   "source": [
    "# Danh sách thương hiệu phổ biến\n",
    "brands = ['AMA', 'Xiaomi', 'Apple', 'Samsung', 'Garmin', 'Huawei', 'Amazfit', 'Wonlex', 'MAI DUY']\n",
    "\n",
    "# Hàm tách brand và model, xử lý riêng với AMA\n",
    "def split_brand_model(product):\n",
    "    for brand in brands:\n",
    "        if product.startswith(brand):\n",
    "            model = product[len(brand):].strip()\n",
    "            if brand == \"AMA\" and model.startswith(\"Watch\"):\n",
    "                model = model[len(\"Watch\"):].strip()\n",
    "            return pd.Series([brand, model])\n",
    "    return pd.Series(['Unknown', product])\n",
    "\n",
    "# Áp dụng\n",
    "df_watch[['brand', 'model']] = df_watch['product_name'].apply(split_brand_model)\n",
    "\n",
    "# Gán ngược vào df chính\n",
    "df.loc[mask_smartwatch, 'brand'] = df_watch['brand'].values\n",
    "df.loc[mask_smartwatch, 'model'] = df_watch['model'].values"
   ]
  },
  {
   "cell_type": "code",
   "execution_count": 7,
   "id": "1fa70352",
   "metadata": {},
   "outputs": [],
   "source": [
    "import re"
   ]
  },
  {
   "cell_type": "code",
   "execution_count": 8,
   "id": "20a9ae15",
   "metadata": {},
   "outputs": [],
   "source": [
    "info_patterns = r'\\d+\\.?\\d*mm|viền [a-zA-ZÀ-ỹ\\s]+|dây [a-zA-ZÀ-ỹ\\s]+'\n",
    "\n",
    "def split_model_info(text):\n",
    "    # Tìm các phần info\n",
    "    infos = re.findall(info_patterns, text, flags=re.IGNORECASE)\n",
    "    info_str = ' '.join(infos).strip()\n",
    "\n",
    "    # Loại bỏ info khỏi model\n",
    "    model_cleaned = text\n",
    "    for i in infos:\n",
    "        model_cleaned = model_cleaned.replace(i, '')\n",
    "\n",
    "    # Xoá khoảng trắng thừa\n",
    "    model_cleaned = re.sub(r'\\s{2,}', ' ', model_cleaned).strip()\n",
    "\n",
    "    return pd.Series([model_cleaned, info_str])"
   ]
  },
  {
   "cell_type": "code",
   "execution_count": 9,
   "id": "bee9881d",
   "metadata": {},
   "outputs": [],
   "source": [
    "df[['model', 'info']] = df['model'].fillna('').apply(split_model_info)"
   ]
  },
  {
   "cell_type": "markdown",
   "id": "54c5d7df",
   "metadata": {},
   "source": [
    "# Lưu file"
   ]
  },
  {
   "cell_type": "code",
   "execution_count": 10,
   "id": "7a03b7cd",
   "metadata": {},
   "outputs": [],
   "source": [
    "df.to_excel(\"data_cleaned_2.xlsx\", index=False)"
   ]
  }
 ],
 "metadata": {
  "kernelspec": {
   "display_name": "Python 3",
   "language": "python",
   "name": "python3"
  },
  "language_info": {
   "codemirror_mode": {
    "name": "ipython",
    "version": 3
   },
   "file_extension": ".py",
   "mimetype": "text/x-python",
   "name": "python",
   "nbconvert_exporter": "python",
   "pygments_lexer": "ipython3",
   "version": "3.12.7"
  }
 },
 "nbformat": 4,
 "nbformat_minor": 5
}
