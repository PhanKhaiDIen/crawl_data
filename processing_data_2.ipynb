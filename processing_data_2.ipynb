{
 "cells": [
  {
   "cell_type": "code",
   "execution_count": 52,
   "id": "751a536a",
   "metadata": {},
   "outputs": [],
   "source": [
    "import pandas as pd"
   ]
  },
  {
   "cell_type": "code",
   "execution_count": 53,
   "id": "7c2a59dd",
   "metadata": {},
   "outputs": [],
   "source": [
    "df = pd.read_excel(\"data_cleaned_1.xlsx\")"
   ]
  },
  {
   "cell_type": "markdown",
   "id": "38ab179e",
   "metadata": {},
   "source": [
    "# Chuẩn hoá dữ liệu"
   ]
  },
  {
   "cell_type": "markdown",
   "id": "714d1f96",
   "metadata": {},
   "source": [
    "> Làm gọn tên sản phẩm"
   ]
  },
  {
   "cell_type": "markdown",
   "id": "1567dfa1",
   "metadata": {},
   "source": [
    "***Chuột***"
   ]
  },
  {
   "cell_type": "code",
   "execution_count": 54,
   "id": "ceb5023d",
   "metadata": {},
   "outputs": [],
   "source": [
    "#Chuột"
   ]
  },
  {
   "cell_type": "markdown",
   "id": "d71e269a",
   "metadata": {},
   "source": [
    "***Loa***"
   ]
  },
  {
   "cell_type": "code",
   "execution_count": 55,
   "id": "6b50c764",
   "metadata": {},
   "outputs": [],
   "source": [
    "#Loa"
   ]
  },
  {
   "cell_type": "markdown",
   "id": "43198567",
   "metadata": {},
   "source": [
    "***Sạc dự phòng***"
   ]
  },
  {
   "cell_type": "code",
   "execution_count": 56,
   "id": "6bf1a2d7",
   "metadata": {},
   "outputs": [],
   "source": [
    "#Sạc dự phòng"
   ]
  },
  {
   "cell_type": "code",
   "execution_count": 57,
   "id": "c5d62dd6",
   "metadata": {},
   "outputs": [],
   "source": [
    "mask_powerbank = df['category'].str.contains('sạc dự phòng', case=False, na=False)"
   ]
  },
  {
   "cell_type": "code",
   "execution_count": 58,
   "id": "e9c0bbde",
   "metadata": {},
   "outputs": [],
   "source": [
    "name_map = {\n",
    "    '[DUNG LƯỢNG 30000MAH] SẠC DỰ PHÒNG MẶT GƯƠNG DUNG LƯỢNG 300000MAH - PIN SẠC DỰ PHÒNG 30000 MAH, HỖ TRỢ SẠC NHIỀU MÁY CÙNG LÚC, CÓ ĐÈN LED CHIẾU SÁNG THÔNG MINH': 'Mặt gương 30000 mah',\n",
    "    '[FREESHIP TẶNG CÁP SẠC NHANH 39K] PIN DỰ PHÒNG LCD MẶT GƯƠNG DUNG LƯỢNG 30000MAH - SẠC DỰ PHÒNG CÓ ĐÈN LED HIỂN THỊ DUNG LƯỢNG PIN - HỖ TRỢ SẠC NHANH ]': 'Mặt gương LCD 30000 mah',\n",
    "    '[SẠC MỌI DÒNG ĐIỆN THOẠI] PIN SẠC DỰ PHÒNG 20000MAH ĐI KÈM VỚI BỐN DÂY CÓ THỂ THÁO RỜI, VỚI ĐÈN LED, PIN LITHIUM-ION POLYMER, HỔ TRỢ SẠC NHANH, AN TOÀN TUYỆT ĐỐI': 'LITHIUM-ION POLYMER 20000 mah',\n",
    "    'Lacepulse 丨 mini pin sạc dự phòng với bốn được xây dựng trong cáp, 20000mAh dung tích lớn đồ sạc di động' : 'Lacepulse 20000 mah',\n",
    "    'Sạc Dự Phòng Từ Tính Không Dây Đa Năng 10000mAh WEKOME WP-47 - Hỗ Trợ Sạc Nhanh PD 20W, Sạc Không Dây Từ Tính Max 15W - Hàng Chính Hãng': 'WEKOME WP-47 10000 mah',\n",
    "    'Pin Sạc Dự Phòng Philips DLP6080WT 8000mAh' : 'Philips DLP6080WT 8000mAh',\n",
    "    'Xmobile 100W M3 tích hợp đèn Pin': 'Xmobile M3',\n",
    "    'Xmobile 22.5W DX367 tích hợp Adapter sạc' : 'Xmobile DX367',\n",
    "    'Xmobile 22.5W JP312 kèm Cáp Lightning và Type CMẫu mới' : 'Xmobile JP312',\n",
    "    'Xmobile 55W JP326' : 'Xmobile JP326',\n",
    "    'Pin Sạc Dự Phòng Anker PowerCore 13000mAh - A1215021': 'Anker PowerCore 13000mAh',\n",
    "    'Pin sạc dự phòng ROCKSPACE Y30 10000mah sạc nhanh 22,5W tích hợp củ sạc, hàng chính hãng bảo hành 12 tháng ': 'ROCKSPACE Y30 10000mah',\n",
    "    'Sạc Dự Phòng Xiaomi Power Bank 20000mAh (Integrated Cable) TH | Sạc Nhanh | Phù Hợp Đi Máy Bay | Hàng Chính Hãng': 'Xiaomi TH  20000mAh',\n",
    "    'Sạc Dự Phòng trong suốt 30000mAh - sạc siêu nhanh, tích hợp 4 cáp, 2 cổng usb, sạc cùng lúc nhiều điện thoại - Hàng chính hãng': 'trong suốt 30000mAh',\n",
    "    'Pin sạc dự phòng 10000mAh Type C 22.5W Xiaomi Lite - GiaPhucStore | Hàng Chính Hãng': 'Xiaomi Lite 10000mAh',\n",
    "    'Pin Sạc dự phòng không dây nam châm 5-in-1 ROCK P50 10000mAh 20W tích hợp chân đế giữ điện thoại - Hàng chính hãng bảo hành 12 tháng': 'ROCK P50 10000mAh',\n",
    "    '[Mỹ] Sạc dự phòng Energizer QM10001AC Thông minh Sạc nam châm từ tính Dung lượng 10000mAh - Hàng chính hãng ': 'Energizer QM10001AC 10000mah',\n",
    "    '[Mỹ] Sạc dự phòng Energizer QM10002PQ Sạc nam châm từ tính Dung lượng 10000mAh tích hợp chân đế xếp gọn - Hàng chính hãng':'Energizer QM10002PQ 10000mah',\n",
    "    'Sạc dự phòng 9FIT Pro 20,000mAh /3.7V Li-Polymer - 9PP20K04B, hỗ trợ sạc nhanh - Hàng chính hãng': '9FIT Pro 20000mAh',\n",
    "    'Sạc dự phòng Energizer 10,000mAh /3.7V Li-Polymer UE10050CCBK, công suất 15W đa cổng - Hàng chính hãng': 'Energizer 10000mAh',\n",
    "    'Pin sạc dự phòng MicroPack POWER STORE 10S 10000mAh - Hàng Chính Hãng': 'MicroPack POWER STORE 10S 10000mAh',\n",
    "    'Sạc dự phòng 50.000mAh trong suốt, có sạc nhanh PD 120W, kèm 4 cáp sạc, tích hợp đèn ngủ - FTAKY Hàng Nhập Khẩu':'FTAKY 50000mAh',\n",
    "    'Sạc Dự Phòng 50.000MAH Trong Suốt kèm cáp sạc nhanh 4 đầu, tích hợp 4 cáp sạc, làm đèn ngủ - FTAKY Hàng Nhập Khẩu': 'FTAKY 50000mAh',\n",
    "    'Sạc dự phòng Energizer 30,000mAh /3.7V Li-Polymer UE30055PQBK, bảo hàng 24 tháng 1 đổi 1 - Hàng chính hãng': 'Energizer 30000mAh',\n",
    "    'Sạc dự phòng Energizer 20,000mAh/3.7V Li-Polymer UE20050C - Hàng chính hãng bảo hành 2 năm 1 đổi 1': 'Energizer 20000mAh',\n",
    "    'Pin Sạc Dự Phòng Trong Suốt Dung Lượng 10000mAh Linrui LR016 Đèn LED 3 Chế Độ - Hàng Chính Hãng':'Linrui LR016 10000mah',\n",
    "    'Pin Sạc Dự Phòng Linrui LR010 Dung Lượng Chuẩn 20000mAh Kèm Cáp Sạc Sẵn, Màn Hình LED Hiển Thị Pin - Hàng Chính Hãng':'Linrui LR010 20000mah',\n",
    "    'Pin Sạc Dự Phòng 20000mAh Linrui LR009 Sạc Nhanh, Cổng Ra Type C - Hàng Chính Hãng': 'Linrui LR009 20000mah',\n",
    "    'Ugreen 130W PB721': 'Ugreen PB721',\n",
    "    'Pin sạc dự phòng Samsung EB-P4520X 20000 mAh 45W-hàng chính hãng':'Samsung EB-P4520X 20000 mAh',\n",
    "    'Xmobile 22.5W SnapGo GS-M3 kèm Cáp Lightning và Type C': 'Xmobile SnapGo GS-M3',\n",
    "    'Baseus PicoGo 45W PPPG-1W45C kèm Cáp Type C': 'Baseus PicoGo PPPG-1W45C',\n",
    "    'Xmobile 22.5W YM-672':'Xmobile YM-672',\n",
    "    'Baseus Lipow 22.5W PPJP312 kèm Cáp Lightning và Type C': 'Baseus Lipow PPJP312',\n",
    "    'Xmobile 22.5W A16': 'Xmobile A16',\n",
    "    'Xmobile 22.5W H19 kèm Cáp Lightning và Type C': 'Xmobile H19',\n",
    "    'Anker Zolo 165W A1695 kèm cáp dây rút Type C': 'Anker Zolo A1695',\n",
    "    'Baseus Lipow 22.5W PPJP312 kèm Cáp Lightning và Type C': 'Baseus Lipow PPJP312',\n",
    "    'Pin dự phòng sạc nhanh vỏ kim loại Baseus Adaman Metal Digital Display Quick Charge Power Bank (10.000mAh/20.000mAh, 22.5W, PD/QC3.0 Quick charge Power Bank)- Hàng chính hãng': 'Baseus Adaman Metal Digital 10000mAh 20000mAh',\n",
    "    'Pin Sạc Dự Phòng Anker 323 1A1C 12W 10000mah USB-A và Type-C A1334 - Hàng Chính Hãng':'Anker 323 1A1C 10000mah',\n",
    "    'Pin Sạc Dự Phòng 20000mAh RAVPower RP-PB1214 Sạc Nhanh 20W, Sạc Không Dây Nam Châm Tối Đa 15W, Tương Thích Mag.Safe iPhone - Hàng Chính Hãng':'RAVPower RP-PB1214 20000 mah',\n",
    "    ' Pin Sạc Dự Phòng Không Dây Từ Tính Remax RPP-519 20000mAh Tích Hợp Kèm 2 Cáp Sạc Nhanh PD 22.5W - Hàng Chính Hãng Remax':'Remax RPP-519 20000mAh',\n",
    "    'Sạc dự phòng Anker 737 PowerCore 1USB 2Type-C 140W PD3.1 24000mAh A1289 - Hàng chính hãng': 'Anker 737 24000mAh',\n",
    "    'Sạc dự phòng Anker 533 PowerCore 1USB 2Type-C 30W 10000mAh A1256 - Hàng chính hãng': ' Anker 533 10000mAh',\n",
    "    'Sạc dự phòng Anker 323 PowerCore PIQ 1USB 1Type-C 12W 10000mAh A1334 - Hàng chính hãng':' Anker 323 PIQ 10000mah',\n",
    "    'Pin sạc dự phòng Rockspace Y11 sạc nhanh 22.5w dung lượng 20000mAh có tích hợp kèm dây sạc - Hàng chính hãng bảo hành 12 tháng':'Rockspace Y11 20000mah',\n",
    "    'Sạc dự phòng Anker Nano Power Bank 1USB 1Type-C 30W 10000 mAh A1259 - Hàng chính hãng':'Anker Nano 10000mah',\n",
    "    'Pin sạc dự phòng xiaomi 200000mah gen 4 22.5W model PB2022ZM - Hàng nhập khẩu':'xiaomi gen 4 200000mah',\n",
    "    'Pin Sạc Dự Phòng Năng Lượng Mặt Trời Linrui LR001 10000mAh Tích Hợp Cáp Sạc Sẵn - Hàng Chính Hãng':'Linrui LR001 10000mAh',\n",
    "    'Sạc dự phòng Energizer PD65W 27,000mAh/3.7V Li-ion XP27001PD, hỗ trợ sạc cho Laptop, chống cháy nổ - Hàng chính hãng bảo hành 12 tháng':'Energizer XP27001PD 27000mAh',\n",
    "    'Sạc dự phòng Energizer 4,600mAh 3.6V Li-ion UE4600PQBK,Sạc nhanh PD 22.5W, bảo hành 24 tháng 1 đổi 1 - Hàng chính hãng': 'Energizer UE4600PQBK 4600mah',\n",
    "    '[Mỹ] Sạc dự phòng Energizer QM5000 mini Sạc nam châm từ tính Dung lượng 5000mAh - Hàng chính hãng':'Energizer QM5000 5000mah',\n",
    "    'Pin Sạc Dự Phòng Laptop HubbFast LAP100 100W 26800mAh, Sạc Nhanh PD Type-C USB-A, Màn Hình LED, Đa Năng, Hàng chính hãng': 'HubbFast LAP100 268000mah',\n",
    "    'Sạc Dự Phòng Xiaomi Power Bank 10000mAh 22.5W Lite TH | Sạc Nhanh | Sạc Cùng Lúc Nhiều Thiết Bị | Bảo Hành 12 Tháng | Hàng Chính Hãng ':'Xiaomi Lite TH 10000mah',\n",
    "    'Pin sạc dự phòng 20000mAh Type C PD QC 3.0 30W Anker A1384 kèm Cáp Type C - Hàng Chính Hãng': 'Anker A1384 20000mah',\n",
    "    'Pin Sạc Dự Phòng Anker PowerCore 20100mAh - A1271': 'Anker A1271 20100mah',\n",
    "    'Pin Sạc Dự Phòng LINRUI LR012 Dung Lượng 2600mAh Nhỏ Gọn - Hàng Chính Hãng':'LINRUI LR012 2600mah',\n",
    "    'Sạc dự phòng ANKER PowerCore II 10000mAh - A1230':'ANKER PowerCore II A1230 10000mah',\n",
    "    'Pin Sạc Dự Phòng Hoco Sạc Nhanh J87A PD20W QC3.0 20000Mah 20W Hàng Nhập Khẩu': 'Hoco J87A 20000mah',\n",
    "    'Sạc dự phòng Energizer 20,000mAh UE20012PQ - Hàng chính hãng': 'Energizer UE20012PQ 20000mah',\n",
    "    'Pin Sạc Dự Phòng Hoco J62 - Dung Lượng 30.000mAh - Có Đèn LED - Hàng chính hãng': 'Hoco J62 30000mah',\n",
    "    'Pin Sạc Dự Phòng HOCO 2 Cổng Sạc, Chống Cháy Nổi, Có Đèn LED Hiển Thị Dung Lượng Pin - 12.000mAh - B35C – Màu Trắng - Tặng 1 Gía Đỡ Điện Thoại Mẫu Ngẫu Nhiên - Hàng Chính Hãng': 'HOCO B35C 12000mah',\n",
    "    'Sạc dự phòng Energizer 20.000 mAh/3.7V Li-Polymer - UE20011PQ - Hàng chính hãng - Đen':'Energizer UE20011PQ 20000mah',\n",
    "    'Pin sạc dự phòng Hoco J59A 20.000mAh - HÀNG CHÍNH HÃNG': 'Hoco J59A 20000mah',\n",
    "    'Pin Sạc Dự Phòng 10000mAh Hoco J48 2 Cổng sạc - Hàng Chính Hãng':'Hoco J48 10000mah',\n",
    "    '(Hàng chính hãng) Pin sạc dự phòng Yoobao 99Wh 26800mAh thiết kế vỏ nhôm nguyên khối hỗ trợ sạc nhanh PD 45W, QC 3.0 cho điện thoại laptop, Macbook. Thích hợp cho các chuyến đi du lịch, công tác xa,....':'Yoobao 26800mAh',\n",
    "    'Pin sạc dự phòng Hoco J68 10000 mah Dành cho điện thoại iPhone iP Huawei Samsung Oppo Realme - Hàng chính hãng':'Hoco J68 10000mah',\n",
    "    'Pin sạc dự phòng 20000mAh Xiaomi PB200SZM 50W - Hàng Chính Hãng':'Xiaomi PB200SZM 20000mah',\n",
    "    'Sạc dự phòng Xiaomi Mi 50W Power Bank 20000mAh BHR5121GL PB2050SZM - Hàng chính hãng':'Xiaomi Mi BHR5121GL PB2050SZM 20000mAh',\n",
    "    'Sạc Dự Phòng Đa Năng 20.000mAh WEKOME WP-335 - Tích Hợp 2 Cáp Sạc Nhanh TypeC & iP - Hỗ Trợ Sạc Nhanh Lên Đên 22,5W - Hàng Chính Hãng':'WEKOME WP-335 20000mah',\n",
    "    'Sạc dự phòng All-in-one dung lượng 15000mAh Remax RPP-276 - Hàng chính hãng':'Remax RPP-276 15000mah',\n",
    "    'Pin Sạc Dự Phòng Baseus Qpow Pro 10000mah 20000mah PD Sạc Nhanh Tích Hợp Dây Sạc IP / Type C Màn Hình LED - Hàng Chính Hãng':'Baseus Qpow Pro 10000mah 20000mah',\n",
    "    'Pin Sạc Dự Phòng 20000mAh Công Suất Cao 65w Baseus Kèm Dây Sạc Nhanh Type C Cho IP, Laptop , Điện Thoại - Hàng Chính Hãng':'Baseus 20000mah',\n",
    "    'Pin sạc dự phòng 10000mah 22.5W PB100DZM - Hàng nhập khẩu':'PB100DZM 10000mah',\n",
    "    'Sạc dự phòng Anker PowerCore Select 10000mAh A1223 - Hàng chính hãng':'Anker PowerCore Select A1223 10000mah',\n",
    "    'Sạc dự phòng có chân đế từ tính không dây Anker 633 MagGO 10000mAh A1641 - Hàng chính hãng':'Anker 633 MagGO A1641 10000mah',\n",
    "    'Pin sạc dự phòng BASEUS Qpow Digital Display 3A 10.000MAH kèm cable iPhone - Hàng chính hãng':'BASEUS Qpow Digital Display 3A 10000mah',\n",
    "    'Pin Sạc Dự Phòng Tích Hợp Cổng USB Type-C In/Out Hỗ Trợ Power Delivery PD Xiaomi Gen 3 20000mAh - Hàng Chính Hãng':'Xiaomi Gen 3 20000mAh',\n",
    "    'Pin sạc dự phòng MOPHIE Power Boost V2 5.200mAh chính hãng':'MOPHIE Power Boost V2 5200mAh',\n",
    "    'Sạc dự phòng Aukey Basix Mini PD 20W QC3.0 10000mAh PB-N83S - Hàng chính hãng':'Aukey Basix Mini PB-N83S 10000mah',\n",
    "    'Pin sạc dự phòng Xiaomi 20000Mah gen 3 PLM18ZM - Hàng nhập khẩu':'Xiaomi gen 3 PLM18ZM 20000mah',\n",
    "    'Sạc dự phòng 20000mAh sạc nhanh không dây 15W Remax RPP-207 sạc nhanh 22.5W QC3.0 - Hàng chính hãng':'Remax RPP-207 20000mah',\n",
    "    'Pin sạc dự phòng Baseus Bipow Digital Display Power Bank 20000mAh ( 15W/20W, USB*2+Type C , LED Display, 2 Way Fast charge ) - Hàng chính hãng':'Baseus Bipow 20000mAh',\n",
    "    'Pin sạc dự phòng Hoco J73 Powerful 30000mAh 2 cổng input, 3 cổng output, đèn pin siêu sáng - Hàng chính hãng':'Hoco J73 Powerful 30000mAh',\n",
    "    'Pin dự phòng sạc nhanh Baseus Adaman Metal Digital Display Quick Charge (22.5W QC3.0/ PD3.0/ SCP/ AFAFC Quick charge) - Hàng Chính Hãng':' Baseus Adaman Metal',\n",
    "    'Pin sạc dự phòng Hoco J75 Tresor 10000mAh 2 cổng Input/Output max 2A (Hàng chính hãng)':'Hoco J75 Tresor 10000mAh',\n",
    "    'Sạc dự phòng không dây từ tính Remax RPP-65 10000mAh - Hàng chính hãng':'Remax RPP-65 10000mAh',\n",
    "    'Pin sạc dự phòng Xiaomi 10000mAh 22.5W Pocket có kèm cáp sạc - Hàng Nhập Khẩu':'Xiaomi Pocket 10000mah',\n",
    "    'Pin sạc dự phòng Rivacase VA2280, LCD (20000mAh) - Hàng Chính Hãng':'Rivacase VA2280 20000mAh',\n",
    "    'Pin dự phòng PD 20W Rockspace P91 sạc nhanh 10000mAh Hàng chính hãng bảo hành 12 tháng':'Rockspace P91 10000mAh',\n",
    "    'Pin Sạc Dự Phòng Di Động WiWU WI-P016 10.000mAh - Hàng Chính Hãng':'WiWU WI-P016 10.000mAh',\n",
    "    'Pin sạc dự phòng mini tích hợp dây sạc Rockspace Y11 sạc nhanh 22.5w dung lương 10000mAh - Hàng chính hãng bảo hành 12 tháng':' Rockspace Y11 10000mah',\n",
    "    'Sạc dự phòng Energizer 30,000mAh UE30016PQ, hỗ trợ sạc nhanh 20W đa nền tảng - Hàng chính hãng bảo hành 1 đổi 1 2 năm':'Energizer UE30016PQ 30000mah',\n",
    "    'Pin sạc dự phòng không dây kèm giá đỡ điện thoại Rockspace P20 SE sạc nhanh PD 20W 10000mAh - Hàng chính hãng bảo hành 12 tháng':'Rockspace P20 SE 10000mah',\n",
    "    'Pin Sạc Dự Phòng AUKEY Basix Mini PB-N83S 10000mAh - Sạc Nhanh Power Delivery 20W và Quick Charge 3.0 18W - Hàng Chính Hãng':'AUKEY Basix Mini PB-N83S 10000mAh',\n",
    "    'Pin Sạc Dự Phòng RAVPower 20000mAh Quick Charge 3.0 + PD 60W, In/Out Type-C, Sạc Được Macbook - RP-PB201 - Hàng Chính Hãng':'RAVPower 20000mAh',\n",
    "    'Pin Sạc Dự Phòng HOCO 10.000mAh-J48,HÀNG CHÍNH HÃNG':'Hoco J48 10000mah'\n",
    "}\n",
    "# Tạo cột mới 'products' bằng cách ánh xạ product_name sang name_map\n",
    "df.loc[mask_powerbank, 'product_name'] = df.loc[mask_powerbank, 'product_name'].map(name_map)"
   ]
  },
  {
   "cell_type": "code",
   "execution_count": 59,
   "id": "ead2f48f",
   "metadata": {},
   "outputs": [],
   "source": [
    "df_watch = df[mask_powerbank].copy()"
   ]
  },
  {
   "cell_type": "markdown",
   "id": "1749a384",
   "metadata": {},
   "source": [
    "***Tai nghe***"
   ]
  },
  {
   "cell_type": "code",
   "execution_count": 60,
   "id": "965b9c6d",
   "metadata": {},
   "outputs": [],
   "source": [
    "#Tai nghe"
   ]
  },
  {
   "cell_type": "code",
   "execution_count": 61,
   "id": "abcff580",
   "metadata": {},
   "outputs": [],
   "source": [
    "mask_headphone = df['category'].str.contains('tai nghe', case=False, na=False)"
   ]
  },
  {
   "cell_type": "code",
   "execution_count": 62,
   "id": "c844e157",
   "metadata": {},
   "outputs": [],
   "source": [
    "name_map = {\n",
    "    'Tai Nghe Không Dây Lenovo Thinkplus EA110 - Thiết Kế Mini TWS, Âm Thanh Stereo HD, Chuẩn Chống Nước IPX7': 'Lenovo Thinkplus EA110',\n",
    "    'tai nghe bluetooth M19 phiên bản mới có kèm sạc dự phòng': 'M19',\n",
    "    'Tai nghe bluetooth M10 âm thanh trung thực chống ồn khánh nước': 'M10',\n",
    "    'Tai nghe Bluetooth S10 Pro, S10 Plus V5.2  kiêm Sạc dự phòng 2800mAh': 'S10 Pro - Plus V5.2',\n",
    "    'Tai Nghe Bluetooth Không Dây S10PRO Pin Cực Trâu Nghe Nhạc Cực Hay Chơi Game Cực Đã Tai Nghe Không Dây ,Tai Nghe Bluetooth 5.2 Bảo Hành 12 Tháng': 'S10 Pro',\n",
    "    'Tai nghe TWS Alpha Works AW-Curve 200': 'TWS Alpha Works AW-Curve 20',\n",
    "    'Tai nghe TWS AVA+ Buds Life Air 3': 'TWS AVA+ Buds Life Air 3',\n",
    "    'Tai nghe Chụp Tai Gaming Asus ROG PELTA': 'Asus ROG PELTA',\n",
    "    'Tai nghe Bluetooth Chụp tai Sony WH1000XM6Mẫu mới': 'Sony WH1000XM6'\n",
    "}\n",
    "\n",
    "# Tạo cột mới 'products' bằng cách ánh xạ product_name sang name_map\n",
    "df.loc[mask_headphone, 'product_name'] = df.loc[mask_headphone, 'product_name'].map(name_map)"
   ]
  },
  {
   "cell_type": "markdown",
   "id": "d686c25e",
   "metadata": {},
   "source": [
    "***Điện thoại***"
   ]
  },
  {
   "cell_type": "code",
   "execution_count": 63,
   "id": "fd72477a",
   "metadata": {},
   "outputs": [],
   "source": [
    "#Điện thoại"
   ]
  },
  {
   "cell_type": "markdown",
   "id": "e42046bd",
   "metadata": {},
   "source": [
    "***Đồng hồ thông minh***"
   ]
  },
  {
   "cell_type": "code",
   "execution_count": 64,
   "id": "6f26498b",
   "metadata": {},
   "outputs": [],
   "source": [
    "mask_smartwatch = df['category'].str.contains('đồng hồ thông minh', case=False, na=False)"
   ]
  },
  {
   "cell_type": "code",
   "execution_count": 65,
   "id": "e9b625d4",
   "metadata": {},
   "outputs": [],
   "source": [
    "name_map = {\n",
    "    'Đồng hồ thông minh Samsung Galaxy Watch 6 dành cho nam 2023 có theo dõi  Amoled Luôn hiển thị nhịp tim & theo dõi huyết áp Dây thép không gỉ': 'Samsung Galaxy Watch 6 2023 dây thép',\n",
    "    ' Đồng Hồ Thông Minh Trẻ em AMA Q12S Model mới nhất ra mắt tháng 12/2021 - Hàng nhập khẩu': 'AMA Q12S',\n",
    "    'Đồng hồ Thông minh Trẻ em AMA Watch Q15 lắp SIM nghe gọi 2 chiều 3 màu Xanh Hồng Đen Hàng chinh hãng': 'AMA Watch Q15',\n",
    "    'Đồng hồ Thông minh Mini có Rung Gắn sim Định vị GPS, Wifi Đo huyết áp Nhịp tim nhắc nhở Vận động gọi Video call AMA Watch FA91S - Hàng nhập khẩu': 'AMA Watch FA91S',\n",
    "    'Đồng hồ Thông minh Trẻ em Học sinh Tiểu học THCS THPT Chống nước Lắp sim Định vị Kép Smart Watch AMA HW13 Hàng nhập khẩu': 'AMA HW13',\n",
    "    'Đồng hồ Thông minh Lắp Sim Định vị GPS Google kết nối Wifi 4G Blueltooth xem được Video Youtube TikTok tải App FB Messenger Skype WhatsApp Viber Wechat Kakao Line Tele chơi Game AMA Smart watch TK Android 8.1 cho Trẻ em Người lớn Hàng nhập khẩu': 'AMA TK Watch Android 8.1',\n",
    "    'Apple Watch SE 2024 GPS (Viền nhôm, dây cao su)': 'Apple Watch SE 2024 viền nhôm dây cao su',\n",
    "    'Vòng Đeo Tay Thông Minh Xiaomi Smart Band 9 Active – Hàng Chính Hãng': 'Xiaomi Smart Band 9 Active',\n",
    "    'Garmin Forerunner 570 47mm dây silicone': 'Garmin Forerunner 570 47mm',\n",
    "    'Amazfit Active 2 Square Sapphire 43.3mm dây daMẫu mới': 'Amazfit Active 2 Square 43.3mm dây da',\n",
    "    'Garmin Forerunner 570 42.4mm dây silicone': 'Garmin Forerunner 570 42.4mm',\n",
    "    'Đồng Hồ Thông Minh Xiaomi Redmi Watch 5 ACTIVE – Hàng Chính Hãng': 'Xiaomi Redmi Watch 5 Active',\n",
    "    'Vòng Đeo Tay Thông Minh Xiaomi Mi Band 10 - Bản Quốc Tế - Hàng Chính Hãng': 'Xiaomi Mi Band 10',\n",
    "    'Apple Watch Series 10 GPS (Viền nhôm, dây cao su)': 'Apple Watch Series 10 viền nhôm dây cao su',\n",
    "    'Samsung Galaxy Watch Ultra LTE 47mm (2025) dây silicone': 'Samsung Galaxy Watch Ultra 47mm dây silicone',\n",
    "    'Đồng Hồ Thông Minh Trẻ Em MAI DUY Y85S, Lắp Sim Nghe Gọi - Định Vị Cảnh Báo Nguy Hiểm, Chống Nước  -Hàng Nhập Khẩu': 'MAI DUY Y85S',\n",
    "    'Đồng Hồ Thông Minh Trẻ Em AMA Watch Q12B Hàng nhập khẩu': 'AMA Watch Q12B',\n",
    "    'Huawei Watch 5 46mm dây cao su': 'Huawei Watch 5 46mm dây cao su',\n",
    "    'Samsung Galaxy Watch8 LTE 40mm dây siliconeMẫu mới': 'Samsung Galaxy Watch8 40mm dây silicone',\n",
    "    'Huawei Watch 5 46mm dây compositeMẫu mới': 'Huawei Watch 5 46mm dây composite',\n",
    "    'Garmin Venu X1 Sapphire 51.2mm dây nylonMẫu mới': 'Garmin Venu X1 51.2mm dây nylon',\n",
    "    'Garmin Forerunner 570 47mm dây silicone': 'Garmin Forerunner 570 47mm dây silicone',\n",
    "    'Amazfit Active 2 Square Sapphire 43.3mm dây daMẫu mới': 'Amazfit Active 2 Square 43.3mm dây da',\n",
    "    'Garmin Forerunner 570 42.4mm dây silicone': 'Garmin Forerunner 570 42.4mm',\n",
    "    'Samsung Galaxy Watch Ultra LTE 47mm (2025) dây silicone': 'Samsung Galaxy Watch Ultra 47mm dây silicone',\n",
    "    'Samsung Galaxy Watch8 LTE 40mm dây siliconeMẫu mới': 'Samsung Galaxy Watch8 40mm dây silicone',\n",
    "    'Đồng hồ Thông minh gắn Sim nghe gọi Chống nước IP67 Gọi Video call Định vị GPS, WIfi dàn cho Trẻ em học sinh cấp 1 2 5 6 7 8 9 10 11 12 tuổi AMA Watch D32 Hàng nhập khẩu': 'AMA Watch D32',\n",
    "    'Đồng Hồ Định Vị Trẻ Em Wonlex KT18 - Hàng Chính Hãng': 'Wonlex KT18',\n",
    "    'Đồng hồ thông minh Samsung Galaxy Watch5 40mm SM-R900N - Hàng chính hãng': 'Samsung Galaxy Watch5 SM-R900N 40mm',\n",
    "    'Đồng hồ Thông minh Chống nước IP67 Dành cho Trẻ em nhuẩn AMA Watch Q16S Hàng chính hãng': 'AMA Watch Q16S',\n",
    "    'Đồng Hồ Thông Minh cho Trẻ em 6 tuổi, 7 tuổi, 8 tuổi, 9 tuổi, 10 tuổi, 11 tuổi Lắp Sim Độc lập nghe gọi 2 chiều AMA Watch Y92 Chống nước Định vị Wifi độ chính xác cao Hàng nhập khẩu': 'AMA Watch Y92',\n",
    "    'Đồng Hồ Thông Minh AMA Watch Nam Nữ chống nước | Gọi điện thoại Xem tin nhắn Theo dõi Sức khỏe vận động Thiết kế nhỏ gọn Thời trang Hàng nhập khẩu': 'AMA Watch D06',\n",
    "    'Đồng Hồ Thông Minh Nữ AMA Watch S27 Thời trang Kết nối Bluetooth Theo dõi Sức khỏe Vận động Màn hình tròn Hàng chính hãng': 'AMA Watch S27'\n",
    "}\n",
    "\n",
    "# Tạo cột mới 'products' bằng cách ánh xạ product_name sang name_map\n",
    "df.loc[mask_smartwatch, 'product_name'] = df.loc[mask_smartwatch, 'product_name'].map(name_map)"
   ]
  },
  {
   "cell_type": "code",
   "execution_count": 66,
   "id": "167fc89f",
   "metadata": {},
   "outputs": [],
   "source": [
    "df_watch = df[mask_smartwatch].copy()"
   ]
  },
  {
   "cell_type": "code",
   "execution_count": 67,
   "id": "0287a352",
   "metadata": {},
   "outputs": [],
   "source": [
    "# Danh sách thương hiệu phổ biến\n",
    "brands = ['AMA', 'Xiaomi', 'Apple', 'Samsung', 'Garmin', 'Huawei', 'Amazfit', 'Wonlex', 'MAI DUY']\n",
    "\n",
    "# Hàm tách brand và model, xử lý riêng với AMA\n",
    "def split_brand_model(product):\n",
    "    for brand in brands:\n",
    "        if product.startswith(brand):\n",
    "            model = product[len(brand):].strip()\n",
    "            if brand == \"AMA\" and model.startswith(\"Watch\"):\n",
    "                model = model[len(\"Watch\"):].strip()\n",
    "            return pd.Series([brand, model])\n",
    "    return pd.Series(['Unknown', product])\n",
    "\n",
    "# Áp dụng\n",
    "df_watch[['brand', 'model']] = df_watch['product_name'].apply(split_brand_model)\n",
    "\n",
    "# Gán ngược vào df chính\n",
    "df.loc[mask_smartwatch, 'brand'] = df_watch['brand'].values\n",
    "df.loc[mask_smartwatch, 'model'] = df_watch['model'].values"
   ]
  },
  {
   "cell_type": "code",
   "execution_count": 68,
   "id": "1fa70352",
   "metadata": {},
   "outputs": [],
   "source": [
    "import re"
   ]
  },
  {
   "cell_type": "code",
   "execution_count": 69,
   "id": "20a9ae15",
   "metadata": {},
   "outputs": [],
   "source": [
    "info_patterns = r'\\d+\\.?\\d*mm|viền [a-zA-ZÀ-ỹ\\s]+|dây [a-zA-ZÀ-ỹ\\s]+'\n",
    "\n",
    "def split_model_info(text):\n",
    "    # Tìm các phần info\n",
    "    infos = re.findall(info_patterns, text, flags=re.IGNORECASE)\n",
    "    info_str = ' '.join(infos).strip()\n",
    "\n",
    "    # Loại bỏ info khỏi model\n",
    "    model_cleaned = text\n",
    "    for i in infos:\n",
    "        model_cleaned = model_cleaned.replace(i, '')\n",
    "\n",
    "    # Xoá khoảng trắng thừa\n",
    "    model_cleaned = re.sub(r'\\s{2,}', ' ', model_cleaned).strip()\n",
    "\n",
    "    return pd.Series([model_cleaned, info_str])"
   ]
  },
  {
   "cell_type": "code",
   "execution_count": 70,
   "id": "bee9881d",
   "metadata": {},
   "outputs": [],
   "source": [
    "df[['model', 'info']] = df['model'].fillna('').apply(split_model_info)"
   ]
  },
  {
   "cell_type": "markdown",
   "id": "54c5d7df",
   "metadata": {},
   "source": [
    "# Lưu file"
   ]
  },
  {
   "cell_type": "code",
   "execution_count": 71,
   "id": "7a03b7cd",
   "metadata": {},
   "outputs": [],
   "source": [
    "df.to_excel(\"data_cleaned_2.xlsx\", index=False)"
   ]
  }
 ],
 "metadata": {
  "kernelspec": {
   "display_name": "Python 3",
   "language": "python",
   "name": "python3"
  },
  "language_info": {
   "codemirror_mode": {
    "name": "ipython",
    "version": 3
   },
   "file_extension": ".py",
   "mimetype": "text/x-python",
   "name": "python",
   "nbconvert_exporter": "python",
   "pygments_lexer": "ipython3",
   "version": "3.12.7"
  }
 },
 "nbformat": 4,
 "nbformat_minor": 5
}
