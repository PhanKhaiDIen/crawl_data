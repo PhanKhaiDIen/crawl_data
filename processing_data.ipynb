{
 "cells": [
  {
   "cell_type": "code",
   "execution_count": 1145,
   "id": "73cfbece",
   "metadata": {},
   "outputs": [],
   "source": [
    "import pandas as pd"
   ]
  },
  {
   "cell_type": "code",
   "execution_count": 1146,
   "id": "d7d2a8a5",
   "metadata": {},
   "outputs": [],
   "source": [
    "df = pd.read_excel(\"data.xlsx\")"
   ]
  },
  {
   "cell_type": "code",
   "execution_count": 1147,
   "id": "ef1271f4",
   "metadata": {},
   "outputs": [
    {
     "data": {
      "text/html": [
       "<div>\n",
       "<style scoped>\n",
       "    .dataframe tbody tr th:only-of-type {\n",
       "        vertical-align: middle;\n",
       "    }\n",
       "\n",
       "    .dataframe tbody tr th {\n",
       "        vertical-align: top;\n",
       "    }\n",
       "\n",
       "    .dataframe thead th {\n",
       "        text-align: right;\n",
       "    }\n",
       "</style>\n",
       "<table border=\"1\" class=\"dataframe\">\n",
       "  <thead>\n",
       "    <tr style=\"text-align: right;\">\n",
       "      <th></th>\n",
       "      <th>product_id</th>\n",
       "      <th>product_name</th>\n",
       "      <th>category</th>\n",
       "      <th>price</th>\n",
       "      <th>image</th>\n",
       "      <th>image_url</th>\n",
       "      <th>source</th>\n",
       "      <th>platform</th>\n",
       "    </tr>\n",
       "  </thead>\n",
       "  <tbody>\n",
       "    <tr>\n",
       "      <th>0</th>\n",
       "      <td>278237932</td>\n",
       "      <td>Điện thoại Xiaomi Redmi 14C - Hàng chính hãng</td>\n",
       "      <td>Điện thoại</td>\n",
       "      <td>2410000</td>\n",
       "      <td>Điện_thoại/278237932_-975695080881447204.jpg</td>\n",
       "      <td>https://salt.tikicdn.com/cache/280x280/ts/prod...</td>\n",
       "      <td>https://tiki.vn/dien-thoai-xiaomi-redmi-14c-ha...</td>\n",
       "      <td>Tiki</td>\n",
       "    </tr>\n",
       "    <tr>\n",
       "      <th>1</th>\n",
       "      <td>278098703</td>\n",
       "      <td>Điện thoại POCO C75 (8GB/256GB) - Hàng Chính Hãng</td>\n",
       "      <td>Điện thoại</td>\n",
       "      <td>2790000</td>\n",
       "      <td>Điện_thoại/278098703_2095942361632154034.png</td>\n",
       "      <td>https://salt.tikicdn.com/cache/280x280/ts/prod...</td>\n",
       "      <td>https://tiki.vn/dien-thoai-poco-c75-8gb-256gb-...</td>\n",
       "      <td>Tiki</td>\n",
       "    </tr>\n",
       "    <tr>\n",
       "      <th>2</th>\n",
       "      <td>278000720</td>\n",
       "      <td>Điện thoại HONOR X5b Plus 4GB/128GB - Hàng chí...</td>\n",
       "      <td>Điện thoại</td>\n",
       "      <td>1950000</td>\n",
       "      <td>Điện_thoại/278000720_-2224713159010548791.jpg</td>\n",
       "      <td>https://salt.tikicdn.com/cache/280x280/ts/prod...</td>\n",
       "      <td>https://tiki.vn/dien-thoai-honor-x5b-plus-4gb-...</td>\n",
       "      <td>Tiki</td>\n",
       "    </tr>\n",
       "    <tr>\n",
       "      <th>3</th>\n",
       "      <td>277930460</td>\n",
       "      <td>Điện thoại Vivo Y19s (4GB/128GB) - Hàng Chính ...</td>\n",
       "      <td>Điện thoại</td>\n",
       "      <td>3090000</td>\n",
       "      <td>Điện_thoại/277930460_-6338273362158553919.jpg</td>\n",
       "      <td>https://salt.tikicdn.com/cache/280x280/ts/prod...</td>\n",
       "      <td>https://tiki.vn/dien-thoai-vivo-y19s-4gb-128gb...</td>\n",
       "      <td>Tiki</td>\n",
       "    </tr>\n",
       "    <tr>\n",
       "      <th>4</th>\n",
       "      <td>277930407</td>\n",
       "      <td>Điện thoại Tecno Spark GO 1 (3GB/64GB) - Hàng ...</td>\n",
       "      <td>Điện thoại</td>\n",
       "      <td>1690000</td>\n",
       "      <td>Điện_thoại/277930407_2543557764007806590.png</td>\n",
       "      <td>https://salt.tikicdn.com/cache/280x280/ts/prod...</td>\n",
       "      <td>https://tiki.vn/dien-thoai-tecno-spark-go-1-3g...</td>\n",
       "      <td>Tiki</td>\n",
       "    </tr>\n",
       "  </tbody>\n",
       "</table>\n",
       "</div>"
      ],
      "text/plain": [
       "   product_id                                       product_name    category    price                                          image                                          image_url  \\\n",
       "0   278237932      Điện thoại Xiaomi Redmi 14C - Hàng chính hãng  Điện thoại  2410000   Điện_thoại/278237932_-975695080881447204.jpg  https://salt.tikicdn.com/cache/280x280/ts/prod...   \n",
       "1   278098703  Điện thoại POCO C75 (8GB/256GB) - Hàng Chính Hãng  Điện thoại  2790000   Điện_thoại/278098703_2095942361632154034.png  https://salt.tikicdn.com/cache/280x280/ts/prod...   \n",
       "2   278000720  Điện thoại HONOR X5b Plus 4GB/128GB - Hàng chí...  Điện thoại  1950000  Điện_thoại/278000720_-2224713159010548791.jpg  https://salt.tikicdn.com/cache/280x280/ts/prod...   \n",
       "3   277930460  Điện thoại Vivo Y19s (4GB/128GB) - Hàng Chính ...  Điện thoại  3090000  Điện_thoại/277930460_-6338273362158553919.jpg  https://salt.tikicdn.com/cache/280x280/ts/prod...   \n",
       "4   277930407  Điện thoại Tecno Spark GO 1 (3GB/64GB) - Hàng ...  Điện thoại  1690000   Điện_thoại/277930407_2543557764007806590.png  https://salt.tikicdn.com/cache/280x280/ts/prod...   \n",
       "\n",
       "                                              source platform  \n",
       "0  https://tiki.vn/dien-thoai-xiaomi-redmi-14c-ha...     Tiki  \n",
       "1  https://tiki.vn/dien-thoai-poco-c75-8gb-256gb-...     Tiki  \n",
       "2  https://tiki.vn/dien-thoai-honor-x5b-plus-4gb-...     Tiki  \n",
       "3  https://tiki.vn/dien-thoai-vivo-y19s-4gb-128gb...     Tiki  \n",
       "4  https://tiki.vn/dien-thoai-tecno-spark-go-1-3g...     Tiki  "
      ]
     },
     "execution_count": 1147,
     "metadata": {},
     "output_type": "execute_result"
    }
   ],
   "source": [
    "df.head(5)"
   ]
  },
  {
   "cell_type": "code",
   "execution_count": 1148,
   "id": "c3f07384",
   "metadata": {},
   "outputs": [
    {
     "data": {
      "text/html": [
       "<div>\n",
       "<style scoped>\n",
       "    .dataframe tbody tr th:only-of-type {\n",
       "        vertical-align: middle;\n",
       "    }\n",
       "\n",
       "    .dataframe tbody tr th {\n",
       "        vertical-align: top;\n",
       "    }\n",
       "\n",
       "    .dataframe thead th {\n",
       "        text-align: right;\n",
       "    }\n",
       "</style>\n",
       "<table border=\"1\" class=\"dataframe\">\n",
       "  <thead>\n",
       "    <tr style=\"text-align: right;\">\n",
       "      <th></th>\n",
       "      <th>product_id</th>\n",
       "      <th>product_name</th>\n",
       "      <th>category</th>\n",
       "      <th>price</th>\n",
       "      <th>image</th>\n",
       "      <th>image_url</th>\n",
       "      <th>source</th>\n",
       "      <th>platform</th>\n",
       "    </tr>\n",
       "  </thead>\n",
       "  <tbody>\n",
       "    <tr>\n",
       "      <th>895</th>\n",
       "      <td>-6008350649452650584</td>\n",
       "      <td>Zongxin. C11 Đồng hồ thông minh thời trang thể...</td>\n",
       "      <td>Đồng hồ thông minh</td>\n",
       "      <td>586377</td>\n",
       "      <td>NaN</td>\n",
       "      <td>data:image/png;base64,iVBORw0KGgoAAAANSUhEUgAA...</td>\n",
       "      <td>https://www.lazada.vn/products/pdp-i3113861613...</td>\n",
       "      <td>Lazada</td>\n",
       "    </tr>\n",
       "    <tr>\n",
       "      <th>896</th>\n",
       "      <td>-3322998491198406804</td>\n",
       "      <td>Đồng Hồ Thông Minh AMA Q19 Camera Kép Xoay 360...</td>\n",
       "      <td>Đồng hồ thông minh</td>\n",
       "      <td>470000</td>\n",
       "      <td>NaN</td>\n",
       "      <td>data:image/png;base64,iVBORw0KGgoAAAANSUhEUgAA...</td>\n",
       "      <td>https://www.lazada.vn/products/pdp-i2302576379...</td>\n",
       "      <td>Lazada</td>\n",
       "    </tr>\n",
       "    <tr>\n",
       "      <th>897</th>\n",
       "      <td>-5434176229531582896</td>\n",
       "      <td>CT VOKUSS Baike Shi Smart Watch G6pro Extraord...</td>\n",
       "      <td>Đồng hồ thông minh</td>\n",
       "      <td>999999</td>\n",
       "      <td>NaN</td>\n",
       "      <td>data:image/png;base64,iVBORw0KGgoAAAANSUhEUgAA...</td>\n",
       "      <td>https://www.lazada.vn/products/pdp-i3018610108...</td>\n",
       "      <td>Lazada</td>\n",
       "    </tr>\n",
       "    <tr>\n",
       "      <th>898</th>\n",
       "      <td>-8064905654789698441</td>\n",
       "      <td>Đồng Hồ Thông Minh DZ09 Đồng Hồ Bluetooth Điện...</td>\n",
       "      <td>Đồng hồ thông minh</td>\n",
       "      <td>167577</td>\n",
       "      <td>NaN</td>\n",
       "      <td>data:image/png;base64,iVBORw0KGgoAAAANSUhEUgAA...</td>\n",
       "      <td>https://www.lazada.vn/products/pdp-i1561349153...</td>\n",
       "      <td>Lazada</td>\n",
       "    </tr>\n",
       "    <tr>\n",
       "      <th>899</th>\n",
       "      <td>-1923108347769427912</td>\n",
       "      <td>Đồng hồ thông minh trẻ em định vị chống nước Z...</td>\n",
       "      <td>Đồng hồ thông minh</td>\n",
       "      <td>209000</td>\n",
       "      <td>NaN</td>\n",
       "      <td>data:image/png;base64,iVBORw0KGgoAAAANSUhEUgAA...</td>\n",
       "      <td>https://www.lazada.vn/products/pdp-i1310761481...</td>\n",
       "      <td>Lazada</td>\n",
       "    </tr>\n",
       "  </tbody>\n",
       "</table>\n",
       "</div>"
      ],
      "text/plain": [
       "              product_id                                       product_name            category   price image                                          image_url  \\\n",
       "895 -6008350649452650584  Zongxin. C11 Đồng hồ thông minh thời trang thể...  Đồng hồ thông minh  586377   NaN  data:image/png;base64,iVBORw0KGgoAAAANSUhEUgAA...   \n",
       "896 -3322998491198406804  Đồng Hồ Thông Minh AMA Q19 Camera Kép Xoay 360...  Đồng hồ thông minh  470000   NaN  data:image/png;base64,iVBORw0KGgoAAAANSUhEUgAA...   \n",
       "897 -5434176229531582896  CT VOKUSS Baike Shi Smart Watch G6pro Extraord...  Đồng hồ thông minh  999999   NaN  data:image/png;base64,iVBORw0KGgoAAAANSUhEUgAA...   \n",
       "898 -8064905654789698441  Đồng Hồ Thông Minh DZ09 Đồng Hồ Bluetooth Điện...  Đồng hồ thông minh  167577   NaN  data:image/png;base64,iVBORw0KGgoAAAANSUhEUgAA...   \n",
       "899 -1923108347769427912  Đồng hồ thông minh trẻ em định vị chống nước Z...  Đồng hồ thông minh  209000   NaN  data:image/png;base64,iVBORw0KGgoAAAANSUhEUgAA...   \n",
       "\n",
       "                                                source platform  \n",
       "895  https://www.lazada.vn/products/pdp-i3113861613...   Lazada  \n",
       "896  https://www.lazada.vn/products/pdp-i2302576379...   Lazada  \n",
       "897  https://www.lazada.vn/products/pdp-i3018610108...   Lazada  \n",
       "898  https://www.lazada.vn/products/pdp-i1561349153...   Lazada  \n",
       "899  https://www.lazada.vn/products/pdp-i1310761481...   Lazada  "
      ]
     },
     "execution_count": 1148,
     "metadata": {},
     "output_type": "execute_result"
    }
   ],
   "source": [
    "df.tail(5)"
   ]
  },
  {
   "cell_type": "code",
   "execution_count": 1149,
   "id": "2c671b1b",
   "metadata": {},
   "outputs": [
    {
     "name": "stdout",
     "output_type": "stream",
     "text": [
      "<class 'pandas.core.frame.DataFrame'>\n",
      "RangeIndex: 900 entries, 0 to 899\n",
      "Data columns (total 8 columns):\n",
      " #   Column        Non-Null Count  Dtype \n",
      "---  ------        --------------  ----- \n",
      " 0   product_id    900 non-null    int64 \n",
      " 1   product_name  880 non-null    object\n",
      " 2   category      900 non-null    object\n",
      " 3   price         900 non-null    int64 \n",
      " 4   image         752 non-null    object\n",
      " 5   image_url     880 non-null    object\n",
      " 6   source        900 non-null    object\n",
      " 7   platform      900 non-null    object\n",
      "dtypes: int64(2), object(6)\n",
      "memory usage: 56.4+ KB\n"
     ]
    }
   ],
   "source": [
    "df.info()"
   ]
  },
  {
   "cell_type": "code",
   "execution_count": 1150,
   "id": "d9b19b4e",
   "metadata": {},
   "outputs": [
    {
     "data": {
      "text/html": [
       "<div>\n",
       "<style scoped>\n",
       "    .dataframe tbody tr th:only-of-type {\n",
       "        vertical-align: middle;\n",
       "    }\n",
       "\n",
       "    .dataframe tbody tr th {\n",
       "        vertical-align: top;\n",
       "    }\n",
       "\n",
       "    .dataframe thead th {\n",
       "        text-align: right;\n",
       "    }\n",
       "</style>\n",
       "<table border=\"1\" class=\"dataframe\">\n",
       "  <thead>\n",
       "    <tr style=\"text-align: right;\">\n",
       "      <th></th>\n",
       "      <th>product_id</th>\n",
       "      <th>price</th>\n",
       "    </tr>\n",
       "  </thead>\n",
       "  <tbody>\n",
       "    <tr>\n",
       "      <th>count</th>\n",
       "      <td>9.000000e+02</td>\n",
       "      <td>9.000000e+02</td>\n",
       "    </tr>\n",
       "    <tr>\n",
       "      <th>mean</th>\n",
       "      <td>-3.329297e+16</td>\n",
       "      <td>2.487850e+06</td>\n",
       "    </tr>\n",
       "    <tr>\n",
       "      <th>std</th>\n",
       "      <td>3.587687e+18</td>\n",
       "      <td>5.239183e+06</td>\n",
       "    </tr>\n",
       "    <tr>\n",
       "      <th>min</th>\n",
       "      <td>-9.145437e+18</td>\n",
       "      <td>0.000000e+00</td>\n",
       "    </tr>\n",
       "    <tr>\n",
       "      <th>25%</th>\n",
       "      <td>2.496170e+07</td>\n",
       "      <td>1.687500e+05</td>\n",
       "    </tr>\n",
       "    <tr>\n",
       "      <th>50%</th>\n",
       "      <td>2.724374e+08</td>\n",
       "      <td>5.048500e+05</td>\n",
       "    </tr>\n",
       "    <tr>\n",
       "      <th>75%</th>\n",
       "      <td>2.780532e+08</td>\n",
       "      <td>1.941772e+06</td>\n",
       "    </tr>\n",
       "    <tr>\n",
       "      <th>max</th>\n",
       "      <td>9.186353e+18</td>\n",
       "      <td>4.499000e+07</td>\n",
       "    </tr>\n",
       "  </tbody>\n",
       "</table>\n",
       "</div>"
      ],
      "text/plain": [
       "         product_id         price\n",
       "count  9.000000e+02  9.000000e+02\n",
       "mean  -3.329297e+16  2.487850e+06\n",
       "std    3.587687e+18  5.239183e+06\n",
       "min   -9.145437e+18  0.000000e+00\n",
       "25%    2.496170e+07  1.687500e+05\n",
       "50%    2.724374e+08  5.048500e+05\n",
       "75%    2.780532e+08  1.941772e+06\n",
       "max    9.186353e+18  4.499000e+07"
      ]
     },
     "execution_count": 1150,
     "metadata": {},
     "output_type": "execute_result"
    }
   ],
   "source": [
    "df.describe()"
   ]
  },
  {
   "cell_type": "markdown",
   "id": "0646cf8e",
   "metadata": {},
   "source": [
    "# Xử lý giá trị thiếu"
   ]
  },
  {
   "cell_type": "code",
   "execution_count": 1151,
   "id": "a8d5becb",
   "metadata": {},
   "outputs": [
    {
     "name": "stdout",
     "output_type": "stream",
     "text": [
      "         Column  Missing Values\n",
      "0    product_id               0\n",
      "1  product_name              20\n",
      "2      category               0\n",
      "3         price               0\n",
      "4         image             148\n",
      "5     image_url              20\n",
      "6        source               0\n",
      "7      platform               0\n"
     ]
    }
   ],
   "source": [
    "missing_values = df.isnull().sum()\n",
    "missing_df = pd.DataFrame({\n",
    "    'Column': df.columns,\n",
    "    'Missing Values': missing_values.values\n",
    "})\n",
    "\n",
    "print(missing_df)"
   ]
  },
  {
   "cell_type": "markdown",
   "id": "d6d8af1e",
   "metadata": {},
   "source": [
    "> Xoá các dòng giá trị thiếu ở cột image"
   ]
  },
  {
   "cell_type": "code",
   "execution_count": 1152,
   "id": "64b13598",
   "metadata": {},
   "outputs": [],
   "source": [
    "columns_to_check = ['product_name', 'image', 'image_url']\n",
    "df = df.dropna(subset=columns_to_check).copy()\n",
    "\n",
    "df.reset_index(drop=True, inplace=True)"
   ]
  },
  {
   "cell_type": "markdown",
   "id": "2245936c",
   "metadata": {},
   "source": [
    "# Xử lý giá trị không hợp lệ"
   ]
  },
  {
   "cell_type": "code",
   "execution_count": 1153,
   "id": "9339e4fa",
   "metadata": {},
   "outputs": [],
   "source": [
    "import re"
   ]
  },
  {
   "cell_type": "code",
   "execution_count": 1154,
   "id": "e6602b86",
   "metadata": {},
   "outputs": [
    {
     "name": "stdout",
     "output_type": "stream",
     "text": [
      "KẾT QUẢ KIỂM TRA GIÁ TRỊ KHÔNG HỢP LỆ:\n",
      "\n",
      "Cột 'product_id' có 144 giá trị < 0 (không hợp lệ).\n",
      "Cột 'product_name' có 37 giá trị chứa icon/ký tự đặc biệt không hợp lệ.\n"
     ]
    }
   ],
   "source": [
    "def contains_special_icon(text):\n",
    "    if pd.isna(text):\n",
    "        return False\n",
    "    # Chấp nhận chữ, số, khoảng trắng và một số ký tự thông thường\n",
    "    return bool(re.search(r\"[^\\w\\s,.!?%&()\\-@:/\\\\+]\", str(text)))\n",
    "\n",
    "# Cột sẽ loại trừ khỏi kiểm tra chuỗi đặc biệt (như 'source', 'image_url', 'image')\n",
    "excluded_string_columns = {'source', 'image_url', 'image'}\n",
    "\n",
    "# Danh sách lỗi và chỉ số dòng bị lỗi\n",
    "errors = []\n",
    "invalid_rows = {}\n",
    "\n",
    "for col in df.columns:\n",
    "    col_data = df[col]\n",
    "    dtype = col_data.dtype\n",
    "\n",
    "    # Kiểm tra giá trị số < 0\n",
    "    if pd.api.types.is_numeric_dtype(dtype):\n",
    "        mask = col_data < 0\n",
    "        count_neg = mask.sum()\n",
    "        if count_neg > 0:\n",
    "            errors.append(f\"Cột '{col}' có {count_neg} giá trị < 0 (không hợp lệ).\")\n",
    "            invalid_rows[col] = df[mask]\n",
    "\n",
    "    # Kiểm tra ký tự đặc biệt trong chuỗi, bỏ qua một số cột\n",
    "    elif (pd.api.types.is_string_dtype(dtype) or dtype == object) and col not in excluded_string_columns:\n",
    "        mask = col_data.astype(str).apply(contains_special_icon)\n",
    "        count_icon = mask.sum()\n",
    "        if count_icon > 0:\n",
    "            errors.append(f\"Cột '{col}' có {count_icon} giá trị chứa icon/ký tự đặc biệt không hợp lệ.\")\n",
    "            invalid_rows[col] = df[mask]\n",
    "\n",
    "# In kết quả\n",
    "if errors:\n",
    "    print(\"KẾT QUẢ KIỂM TRA GIÁ TRỊ KHÔNG HỢP LỆ:\\n\")\n",
    "    for e in errors:\n",
    "        print(e)\n",
    "else:\n",
    "    print(\"Không phát hiện giá trị không hợp lệ trong DataFrame.\")"
   ]
  },
  {
   "cell_type": "markdown",
   "id": "c13d1d90",
   "metadata": {},
   "source": [
    "> Giữ những dòng có product_id là số dương"
   ]
  },
  {
   "cell_type": "code",
   "execution_count": 1155,
   "id": "8b3f6ebf",
   "metadata": {},
   "outputs": [],
   "source": [
    "df = df[df['product_id'] >= 0]"
   ]
  },
  {
   "cell_type": "code",
   "execution_count": 1156,
   "id": "bbd97c0f",
   "metadata": {},
   "outputs": [
    {
     "name": "stdout",
     "output_type": "stream",
     "text": [
      "Số dòng còn lại: 608\n"
     ]
    }
   ],
   "source": [
    "print(f\"Số dòng còn lại: {len(df)}\")"
   ]
  },
  {
   "cell_type": "code",
   "execution_count": 1157,
   "id": "8a0aac85",
   "metadata": {},
   "outputs": [
    {
     "name": "stdout",
     "output_type": "stream",
     "text": [
      "\n",
      "Các dòng product_name không hợp lệ:\n",
      "     product_id                                       product_name\n",
      "19    277014407  Điện thoại ZTE Blade A34 (4GB/64GB) Màn hình 6...\n",
      "87    276075466  [NEW ARRIVAL] Loa Bluetooth Marshall Willen II...\n",
      "91    275262949   Loa CROWN 5 đế có bluetooth ( Hàng Chính Hãng )\n",
      "123   277771239  Loa Bluetooth Xiaomi Speaker - GiaPhucStore | ...\n",
      "156    47099726  Loa Bluetooth Kiêm Pin Sạc Dự Phòng Zealot S1 ...\n",
      "174   272402620  Tai nghe Bluetooth True Wireless Anker Soundco...\n",
      "190   142127420  Tai nghe game không dây Bluetooth và Lighspeed...\n",
      "192   118191706  Tai nghe bluetooth F9 Pro thương hiệu PAGINI p...\n",
      "205   276246546  Tai nghe Bluetooth Xiaomi Redmi Buds 6 Play - ...\n",
      "229   148733004  Tai nghe Bluetooth V5.0 Hoco E57 chất liệu cao...\n"
     ]
    }
   ],
   "source": [
    "if 'product_name' in invalid_rows:\n",
    "    print(\"\\nCác dòng product_name không hợp lệ:\")\n",
    "    print(invalid_rows['product_name'][['product_id', 'product_name']].head(10))"
   ]
  },
  {
   "cell_type": "markdown",
   "id": "4c9ae15f",
   "metadata": {},
   "source": [
    "# Phân loại dữ liệu (chưa làm)"
   ]
  },
  {
   "cell_type": "markdown",
   "id": "f415dd31",
   "metadata": {},
   "source": [
    "# Xử lý dữ liệu Noise\n",
    "- Các tên sản phẩm không phải là sản phẩm chính trong danh mục"
   ]
  },
  {
   "cell_type": "markdown",
   "id": "54cb4a5c",
   "metadata": {},
   "source": [
    "# Chuẩn hoá dữ liệu"
   ]
  },
  {
   "cell_type": "code",
   "execution_count": 1158,
   "id": "8b6b9330",
   "metadata": {},
   "outputs": [],
   "source": [
    "df = df.sort_values(by='category').reset_index(drop=True)"
   ]
  },
  {
   "cell_type": "markdown",
   "id": "919240df",
   "metadata": {},
   "source": [
    "> Làm gọn tên sản phẩm"
   ]
  },
  {
   "cell_type": "code",
   "execution_count": 1159,
   "id": "49df70fd",
   "metadata": {},
   "outputs": [],
   "source": [
    "import re"
   ]
  },
  {
   "cell_type": "code",
   "execution_count": 1160,
   "id": "a3128266",
   "metadata": {},
   "outputs": [],
   "source": [
    "category_prefix = {\n",
    "    \"Điện thoại\": \"SP\",\n",
    "    \"Đồng hồ thông minh\": \"SW\",\n",
    "    \"Tai nghe\": \"HP\",\n",
    "    \"Loa\": \"SP\",\n",
    "    \"Sạc dự phòng\": \"PB\",\n",
    "    \"Chuột\": \"MS\"\n",
    "}"
   ]
  },
  {
   "cell_type": "code",
   "execution_count": 1161,
   "id": "6bfe7231",
   "metadata": {},
   "outputs": [],
   "source": [
    "df = df.copy()"
   ]
  },
  {
   "cell_type": "code",
   "execution_count": 1162,
   "id": "46f0e7f6",
   "metadata": {},
   "outputs": [],
   "source": [
    "df['serial_code'] = (df.groupby('category').cumcount() + 1).astype(str).str.zfill(2)\n",
    "df['serial_code'] = df['category'].map(category_prefix) + df['serial_code']"
   ]
  },
  {
   "cell_type": "code",
   "execution_count": 1163,
   "id": "d7f27228",
   "metadata": {},
   "outputs": [],
   "source": [
    "cols = ['serial_code'] + [col for col in df.columns if col != 'serial_code']\n",
    "df = df[cols]"
   ]
  },
  {
   "cell_type": "code",
   "execution_count": 1164,
   "id": "f451899a",
   "metadata": {},
   "outputs": [
    {
     "data": {
      "text/html": [
       "<div>\n",
       "<style scoped>\n",
       "    .dataframe tbody tr th:only-of-type {\n",
       "        vertical-align: middle;\n",
       "    }\n",
       "\n",
       "    .dataframe tbody tr th {\n",
       "        vertical-align: top;\n",
       "    }\n",
       "\n",
       "    .dataframe thead th {\n",
       "        text-align: right;\n",
       "    }\n",
       "</style>\n",
       "<table border=\"1\" class=\"dataframe\">\n",
       "  <thead>\n",
       "    <tr style=\"text-align: right;\">\n",
       "      <th></th>\n",
       "      <th>serial_code</th>\n",
       "      <th>product_id</th>\n",
       "      <th>product_name</th>\n",
       "      <th>category</th>\n",
       "      <th>price</th>\n",
       "      <th>image</th>\n",
       "      <th>image_url</th>\n",
       "      <th>source</th>\n",
       "      <th>platform</th>\n",
       "    </tr>\n",
       "  </thead>\n",
       "  <tbody>\n",
       "    <tr>\n",
       "      <th>0</th>\n",
       "      <td>MS01</td>\n",
       "      <td>74553497</td>\n",
       "      <td>Chuột chơi game có dây LOGITECH G102 GEN2 RGB ...</td>\n",
       "      <td>Chuột</td>\n",
       "      <td>399000</td>\n",
       "      <td>Chuột/74553497_2868333515564354288.jpg</td>\n",
       "      <td>https://salt.tikicdn.com/cache/280x280/ts/prod...</td>\n",
       "      <td>https://tiki.vn/chuot-choi-game-co-day-logitec...</td>\n",
       "      <td>Tiki</td>\n",
       "    </tr>\n",
       "    <tr>\n",
       "      <th>1</th>\n",
       "      <td>MS02</td>\n",
       "      <td>276163723</td>\n",
       "      <td>Chuột Gaming Logitech PRO X SUPERLIGHT 2 DEX -...</td>\n",
       "      <td>Chuột</td>\n",
       "      <td>3490000</td>\n",
       "      <td>Chuột/276163723_-9150353812030735703.png</td>\n",
       "      <td>https://salt.tikicdn.com/cache/280x280/ts/prod...</td>\n",
       "      <td>https://tiki.vn/chuot-gaming-logitech-pro-x-su...</td>\n",
       "      <td>Tiki</td>\n",
       "    </tr>\n",
       "    <tr>\n",
       "      <th>2</th>\n",
       "      <td>MS03</td>\n",
       "      <td>276675817</td>\n",
       "      <td>Chuột LED RGB 7200DPI Gaming Macro Mouse C8 ch...</td>\n",
       "      <td>Chuột</td>\n",
       "      <td>185000</td>\n",
       "      <td>Chuột/276675817_8938236437287648169.jpg</td>\n",
       "      <td>https://salt.tikicdn.com/cache/280x280/ts/prod...</td>\n",
       "      <td>https://tiki.vn/chuot-led-rgb-7200dpi-gaming-m...</td>\n",
       "      <td>Tiki</td>\n",
       "    </tr>\n",
       "    <tr>\n",
       "      <th>3</th>\n",
       "      <td>MS04</td>\n",
       "      <td>290995</td>\n",
       "      <td>Chuột Có Dây Newmen G10 Màu Đen - Gaming- Hàng...</td>\n",
       "      <td>Chuột</td>\n",
       "      <td>175000</td>\n",
       "      <td>Chuột/290995_7623098700797147372.jpg</td>\n",
       "      <td>https://salt.tikicdn.com/cache/280x280/media/c...</td>\n",
       "      <td>https://tiki.vn/chuot-choi-game-co-day-newmen-...</td>\n",
       "      <td>Tiki</td>\n",
       "    </tr>\n",
       "    <tr>\n",
       "      <th>4</th>\n",
       "      <td>MS05</td>\n",
       "      <td>385455</td>\n",
       "      <td>Chuột Chơi Game Có Dây Fuhlen L102 1000DPI 3 P...</td>\n",
       "      <td>Chuột</td>\n",
       "      <td>142000</td>\n",
       "      <td>Chuột/385455_1096506520391591450.jpg</td>\n",
       "      <td>https://salt.tikicdn.com/cache/280x280/ts/prod...</td>\n",
       "      <td>https://tiki.vn/chuot-choi-game-co-day-fuhlen-...</td>\n",
       "      <td>Tiki</td>\n",
       "    </tr>\n",
       "  </tbody>\n",
       "</table>\n",
       "</div>"
      ],
      "text/plain": [
       "  serial_code  product_id                                       product_name category    price                                     image                                          image_url  \\\n",
       "0        MS01    74553497  Chuột chơi game có dây LOGITECH G102 GEN2 RGB ...    Chuột   399000    Chuột/74553497_2868333515564354288.jpg  https://salt.tikicdn.com/cache/280x280/ts/prod...   \n",
       "1        MS02   276163723  Chuột Gaming Logitech PRO X SUPERLIGHT 2 DEX -...    Chuột  3490000  Chuột/276163723_-9150353812030735703.png  https://salt.tikicdn.com/cache/280x280/ts/prod...   \n",
       "2        MS03   276675817  Chuột LED RGB 7200DPI Gaming Macro Mouse C8 ch...    Chuột   185000   Chuột/276675817_8938236437287648169.jpg  https://salt.tikicdn.com/cache/280x280/ts/prod...   \n",
       "3        MS04      290995  Chuột Có Dây Newmen G10 Màu Đen - Gaming- Hàng...    Chuột   175000      Chuột/290995_7623098700797147372.jpg  https://salt.tikicdn.com/cache/280x280/media/c...   \n",
       "4        MS05      385455  Chuột Chơi Game Có Dây Fuhlen L102 1000DPI 3 P...    Chuột   142000      Chuột/385455_1096506520391591450.jpg  https://salt.tikicdn.com/cache/280x280/ts/prod...   \n",
       "\n",
       "                                              source platform  \n",
       "0  https://tiki.vn/chuot-choi-game-co-day-logitec...     Tiki  \n",
       "1  https://tiki.vn/chuot-gaming-logitech-pro-x-su...     Tiki  \n",
       "2  https://tiki.vn/chuot-led-rgb-7200dpi-gaming-m...     Tiki  \n",
       "3  https://tiki.vn/chuot-choi-game-co-day-newmen-...     Tiki  \n",
       "4  https://tiki.vn/chuot-choi-game-co-day-fuhlen-...     Tiki  "
      ]
     },
     "execution_count": 1164,
     "metadata": {},
     "output_type": "execute_result"
    }
   ],
   "source": [
    "df.head(5)"
   ]
  },
  {
   "cell_type": "code",
   "execution_count": 1165,
   "id": "b1917453",
   "metadata": {},
   "outputs": [
    {
     "data": {
      "text/plain": [
       "category\n",
       "Chuột                 7.814716e+05\n",
       "Loa                   2.011357e+06\n",
       "Sạc dự phòng          6.746797e+05\n",
       "Tai nghe              1.009800e+06\n",
       "Điện thoại            7.835724e+06\n",
       "Đồng hồ thông minh    2.382125e+06\n",
       "Name: price, dtype: float64"
      ]
     },
     "execution_count": 1165,
     "metadata": {},
     "output_type": "execute_result"
    }
   ],
   "source": [
    "df.groupby('category')['price'].mean()"
   ]
  },
  {
   "cell_type": "code",
   "execution_count": 1166,
   "id": "c973c7ce",
   "metadata": {},
   "outputs": [],
   "source": [
    "df.to_excel(\"data_cleaned.xlsx\", index=False)"
   ]
  }
 ],
 "metadata": {
  "kernelspec": {
   "display_name": "Python 3",
   "language": "python",
   "name": "python3"
  },
  "language_info": {
   "codemirror_mode": {
    "name": "ipython",
    "version": 3
   },
   "file_extension": ".py",
   "mimetype": "text/x-python",
   "name": "python",
   "nbconvert_exporter": "python",
   "pygments_lexer": "ipython3",
   "version": "3.12.7"
  }
 },
 "nbformat": 4,
 "nbformat_minor": 5
}
