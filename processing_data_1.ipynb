{
 "cells": [
  {
   "cell_type": "code",
   "execution_count": 168,
   "id": "73cfbece",
   "metadata": {},
   "outputs": [],
   "source": [
    "import pandas as pd"
   ]
  },
  {
   "cell_type": "code",
   "execution_count": 169,
   "id": "d7d2a8a5",
   "metadata": {},
   "outputs": [],
   "source": [
    "df = pd.read_excel(\"data.xlsx\")"
   ]
  },
  {
   "cell_type": "code",
   "execution_count": 170,
   "id": "01c17e1c",
   "metadata": {},
   "outputs": [
    {
     "data": {
      "text/plain": [
       "(900, 8)"
      ]
     },
     "execution_count": 170,
     "metadata": {},
     "output_type": "execute_result"
    }
   ],
   "source": [
    "df.shape"
   ]
  },
  {
   "cell_type": "code",
   "execution_count": 171,
   "id": "ef1271f4",
   "metadata": {},
   "outputs": [
    {
     "data": {
      "text/html": [
       "<div>\n",
       "<style scoped>\n",
       "    .dataframe tbody tr th:only-of-type {\n",
       "        vertical-align: middle;\n",
       "    }\n",
       "\n",
       "    .dataframe tbody tr th {\n",
       "        vertical-align: top;\n",
       "    }\n",
       "\n",
       "    .dataframe thead th {\n",
       "        text-align: right;\n",
       "    }\n",
       "</style>\n",
       "<table border=\"1\" class=\"dataframe\">\n",
       "  <thead>\n",
       "    <tr style=\"text-align: right;\">\n",
       "      <th></th>\n",
       "      <th>product_id</th>\n",
       "      <th>product_name</th>\n",
       "      <th>category</th>\n",
       "      <th>price</th>\n",
       "      <th>image</th>\n",
       "      <th>image_url</th>\n",
       "      <th>source</th>\n",
       "      <th>platform</th>\n",
       "    </tr>\n",
       "  </thead>\n",
       "  <tbody>\n",
       "    <tr>\n",
       "      <th>0</th>\n",
       "      <td>278237932</td>\n",
       "      <td>Điện thoại Xiaomi Redmi 14C - Hàng chính hãng</td>\n",
       "      <td>Điện thoại</td>\n",
       "      <td>2410000</td>\n",
       "      <td>Điện_thoại/278237932_-975695080881447204.jpg</td>\n",
       "      <td>https://salt.tikicdn.com/cache/280x280/ts/prod...</td>\n",
       "      <td>https://tiki.vn/dien-thoai-xiaomi-redmi-14c-ha...</td>\n",
       "      <td>Tiki</td>\n",
       "    </tr>\n",
       "    <tr>\n",
       "      <th>1</th>\n",
       "      <td>278098703</td>\n",
       "      <td>Điện thoại POCO C75 (8GB/256GB) - Hàng Chính Hãng</td>\n",
       "      <td>Điện thoại</td>\n",
       "      <td>2790000</td>\n",
       "      <td>Điện_thoại/278098703_2095942361632154034.png</td>\n",
       "      <td>https://salt.tikicdn.com/cache/280x280/ts/prod...</td>\n",
       "      <td>https://tiki.vn/dien-thoai-poco-c75-8gb-256gb-...</td>\n",
       "      <td>Tiki</td>\n",
       "    </tr>\n",
       "    <tr>\n",
       "      <th>2</th>\n",
       "      <td>278000720</td>\n",
       "      <td>Điện thoại HONOR X5b Plus 4GB/128GB - Hàng chí...</td>\n",
       "      <td>Điện thoại</td>\n",
       "      <td>1950000</td>\n",
       "      <td>Điện_thoại/278000720_-2224713159010548791.jpg</td>\n",
       "      <td>https://salt.tikicdn.com/cache/280x280/ts/prod...</td>\n",
       "      <td>https://tiki.vn/dien-thoai-honor-x5b-plus-4gb-...</td>\n",
       "      <td>Tiki</td>\n",
       "    </tr>\n",
       "    <tr>\n",
       "      <th>3</th>\n",
       "      <td>277930460</td>\n",
       "      <td>Điện thoại Vivo Y19s (4GB/128GB) - Hàng Chính ...</td>\n",
       "      <td>Điện thoại</td>\n",
       "      <td>3090000</td>\n",
       "      <td>Điện_thoại/277930460_-6338273362158553919.jpg</td>\n",
       "      <td>https://salt.tikicdn.com/cache/280x280/ts/prod...</td>\n",
       "      <td>https://tiki.vn/dien-thoai-vivo-y19s-4gb-128gb...</td>\n",
       "      <td>Tiki</td>\n",
       "    </tr>\n",
       "    <tr>\n",
       "      <th>4</th>\n",
       "      <td>277930407</td>\n",
       "      <td>Điện thoại Tecno Spark GO 1 (3GB/64GB) - Hàng ...</td>\n",
       "      <td>Điện thoại</td>\n",
       "      <td>1690000</td>\n",
       "      <td>Điện_thoại/277930407_2543557764007806590.png</td>\n",
       "      <td>https://salt.tikicdn.com/cache/280x280/ts/prod...</td>\n",
       "      <td>https://tiki.vn/dien-thoai-tecno-spark-go-1-3g...</td>\n",
       "      <td>Tiki</td>\n",
       "    </tr>\n",
       "  </tbody>\n",
       "</table>\n",
       "</div>"
      ],
      "text/plain": [
       "   product_id                                       product_name    category  \\\n",
       "0   278237932      Điện thoại Xiaomi Redmi 14C - Hàng chính hãng  Điện thoại   \n",
       "1   278098703  Điện thoại POCO C75 (8GB/256GB) - Hàng Chính Hãng  Điện thoại   \n",
       "2   278000720  Điện thoại HONOR X5b Plus 4GB/128GB - Hàng chí...  Điện thoại   \n",
       "3   277930460  Điện thoại Vivo Y19s (4GB/128GB) - Hàng Chính ...  Điện thoại   \n",
       "4   277930407  Điện thoại Tecno Spark GO 1 (3GB/64GB) - Hàng ...  Điện thoại   \n",
       "\n",
       "     price                                          image  \\\n",
       "0  2410000   Điện_thoại/278237932_-975695080881447204.jpg   \n",
       "1  2790000   Điện_thoại/278098703_2095942361632154034.png   \n",
       "2  1950000  Điện_thoại/278000720_-2224713159010548791.jpg   \n",
       "3  3090000  Điện_thoại/277930460_-6338273362158553919.jpg   \n",
       "4  1690000   Điện_thoại/277930407_2543557764007806590.png   \n",
       "\n",
       "                                           image_url  \\\n",
       "0  https://salt.tikicdn.com/cache/280x280/ts/prod...   \n",
       "1  https://salt.tikicdn.com/cache/280x280/ts/prod...   \n",
       "2  https://salt.tikicdn.com/cache/280x280/ts/prod...   \n",
       "3  https://salt.tikicdn.com/cache/280x280/ts/prod...   \n",
       "4  https://salt.tikicdn.com/cache/280x280/ts/prod...   \n",
       "\n",
       "                                              source platform  \n",
       "0  https://tiki.vn/dien-thoai-xiaomi-redmi-14c-ha...     Tiki  \n",
       "1  https://tiki.vn/dien-thoai-poco-c75-8gb-256gb-...     Tiki  \n",
       "2  https://tiki.vn/dien-thoai-honor-x5b-plus-4gb-...     Tiki  \n",
       "3  https://tiki.vn/dien-thoai-vivo-y19s-4gb-128gb...     Tiki  \n",
       "4  https://tiki.vn/dien-thoai-tecno-spark-go-1-3g...     Tiki  "
      ]
     },
     "execution_count": 171,
     "metadata": {},
     "output_type": "execute_result"
    }
   ],
   "source": [
    "df.head(5)"
   ]
  },
  {
   "cell_type": "code",
   "execution_count": 172,
   "id": "c3f07384",
   "metadata": {},
   "outputs": [
    {
     "data": {
      "text/html": [
       "<div>\n",
       "<style scoped>\n",
       "    .dataframe tbody tr th:only-of-type {\n",
       "        vertical-align: middle;\n",
       "    }\n",
       "\n",
       "    .dataframe tbody tr th {\n",
       "        vertical-align: top;\n",
       "    }\n",
       "\n",
       "    .dataframe thead th {\n",
       "        text-align: right;\n",
       "    }\n",
       "</style>\n",
       "<table border=\"1\" class=\"dataframe\">\n",
       "  <thead>\n",
       "    <tr style=\"text-align: right;\">\n",
       "      <th></th>\n",
       "      <th>product_id</th>\n",
       "      <th>product_name</th>\n",
       "      <th>category</th>\n",
       "      <th>price</th>\n",
       "      <th>image</th>\n",
       "      <th>image_url</th>\n",
       "      <th>source</th>\n",
       "      <th>platform</th>\n",
       "    </tr>\n",
       "  </thead>\n",
       "  <tbody>\n",
       "    <tr>\n",
       "      <th>895</th>\n",
       "      <td>-6008350649452650584</td>\n",
       "      <td>Zongxin. C11 Đồng hồ thông minh thời trang thể...</td>\n",
       "      <td>Đồng hồ thông minh</td>\n",
       "      <td>586377</td>\n",
       "      <td>NaN</td>\n",
       "      <td>data:image/png;base64,iVBORw0KGgoAAAANSUhEUgAA...</td>\n",
       "      <td>https://www.lazada.vn/products/pdp-i3113861613...</td>\n",
       "      <td>Lazada</td>\n",
       "    </tr>\n",
       "    <tr>\n",
       "      <th>896</th>\n",
       "      <td>-3322998491198406804</td>\n",
       "      <td>Đồng Hồ Thông Minh AMA Q19 Camera Kép Xoay 360...</td>\n",
       "      <td>Đồng hồ thông minh</td>\n",
       "      <td>470000</td>\n",
       "      <td>NaN</td>\n",
       "      <td>data:image/png;base64,iVBORw0KGgoAAAANSUhEUgAA...</td>\n",
       "      <td>https://www.lazada.vn/products/pdp-i2302576379...</td>\n",
       "      <td>Lazada</td>\n",
       "    </tr>\n",
       "    <tr>\n",
       "      <th>897</th>\n",
       "      <td>-5434176229531582896</td>\n",
       "      <td>CT VOKUSS Baike Shi Smart Watch G6pro Extraord...</td>\n",
       "      <td>Đồng hồ thông minh</td>\n",
       "      <td>999999</td>\n",
       "      <td>NaN</td>\n",
       "      <td>data:image/png;base64,iVBORw0KGgoAAAANSUhEUgAA...</td>\n",
       "      <td>https://www.lazada.vn/products/pdp-i3018610108...</td>\n",
       "      <td>Lazada</td>\n",
       "    </tr>\n",
       "    <tr>\n",
       "      <th>898</th>\n",
       "      <td>-8064905654789698441</td>\n",
       "      <td>Đồng Hồ Thông Minh DZ09 Đồng Hồ Bluetooth Điện...</td>\n",
       "      <td>Đồng hồ thông minh</td>\n",
       "      <td>167577</td>\n",
       "      <td>NaN</td>\n",
       "      <td>data:image/png;base64,iVBORw0KGgoAAAANSUhEUgAA...</td>\n",
       "      <td>https://www.lazada.vn/products/pdp-i1561349153...</td>\n",
       "      <td>Lazada</td>\n",
       "    </tr>\n",
       "    <tr>\n",
       "      <th>899</th>\n",
       "      <td>-1923108347769427912</td>\n",
       "      <td>Đồng hồ thông minh trẻ em định vị chống nước Z...</td>\n",
       "      <td>Đồng hồ thông minh</td>\n",
       "      <td>209000</td>\n",
       "      <td>NaN</td>\n",
       "      <td>data:image/png;base64,iVBORw0KGgoAAAANSUhEUgAA...</td>\n",
       "      <td>https://www.lazada.vn/products/pdp-i1310761481...</td>\n",
       "      <td>Lazada</td>\n",
       "    </tr>\n",
       "  </tbody>\n",
       "</table>\n",
       "</div>"
      ],
      "text/plain": [
       "              product_id                                       product_name  \\\n",
       "895 -6008350649452650584  Zongxin. C11 Đồng hồ thông minh thời trang thể...   \n",
       "896 -3322998491198406804  Đồng Hồ Thông Minh AMA Q19 Camera Kép Xoay 360...   \n",
       "897 -5434176229531582896  CT VOKUSS Baike Shi Smart Watch G6pro Extraord...   \n",
       "898 -8064905654789698441  Đồng Hồ Thông Minh DZ09 Đồng Hồ Bluetooth Điện...   \n",
       "899 -1923108347769427912  Đồng hồ thông minh trẻ em định vị chống nước Z...   \n",
       "\n",
       "               category   price image  \\\n",
       "895  Đồng hồ thông minh  586377   NaN   \n",
       "896  Đồng hồ thông minh  470000   NaN   \n",
       "897  Đồng hồ thông minh  999999   NaN   \n",
       "898  Đồng hồ thông minh  167577   NaN   \n",
       "899  Đồng hồ thông minh  209000   NaN   \n",
       "\n",
       "                                             image_url  \\\n",
       "895  data:image/png;base64,iVBORw0KGgoAAAANSUhEUgAA...   \n",
       "896  data:image/png;base64,iVBORw0KGgoAAAANSUhEUgAA...   \n",
       "897  data:image/png;base64,iVBORw0KGgoAAAANSUhEUgAA...   \n",
       "898  data:image/png;base64,iVBORw0KGgoAAAANSUhEUgAA...   \n",
       "899  data:image/png;base64,iVBORw0KGgoAAAANSUhEUgAA...   \n",
       "\n",
       "                                                source platform  \n",
       "895  https://www.lazada.vn/products/pdp-i3113861613...   Lazada  \n",
       "896  https://www.lazada.vn/products/pdp-i2302576379...   Lazada  \n",
       "897  https://www.lazada.vn/products/pdp-i3018610108...   Lazada  \n",
       "898  https://www.lazada.vn/products/pdp-i1561349153...   Lazada  \n",
       "899  https://www.lazada.vn/products/pdp-i1310761481...   Lazada  "
      ]
     },
     "execution_count": 172,
     "metadata": {},
     "output_type": "execute_result"
    }
   ],
   "source": [
    "df.tail(5)"
   ]
  },
  {
   "cell_type": "code",
   "execution_count": 173,
   "id": "e34399b0",
   "metadata": {},
   "outputs": [
    {
     "data": {
      "text/plain": [
       "product_id       int64\n",
       "product_name    object\n",
       "category        object\n",
       "price            int64\n",
       "image           object\n",
       "image_url       object\n",
       "source          object\n",
       "platform        object\n",
       "dtype: object"
      ]
     },
     "execution_count": 173,
     "metadata": {},
     "output_type": "execute_result"
    }
   ],
   "source": [
    "df.dtypes"
   ]
  },
  {
   "cell_type": "code",
   "execution_count": 174,
   "id": "d9b19b4e",
   "metadata": {},
   "outputs": [
    {
     "data": {
      "text/html": [
       "<div>\n",
       "<style scoped>\n",
       "    .dataframe tbody tr th:only-of-type {\n",
       "        vertical-align: middle;\n",
       "    }\n",
       "\n",
       "    .dataframe tbody tr th {\n",
       "        vertical-align: top;\n",
       "    }\n",
       "\n",
       "    .dataframe thead th {\n",
       "        text-align: right;\n",
       "    }\n",
       "</style>\n",
       "<table border=\"1\" class=\"dataframe\">\n",
       "  <thead>\n",
       "    <tr style=\"text-align: right;\">\n",
       "      <th></th>\n",
       "      <th>product_id</th>\n",
       "      <th>price</th>\n",
       "    </tr>\n",
       "  </thead>\n",
       "  <tbody>\n",
       "    <tr>\n",
       "      <th>count</th>\n",
       "      <td>9.000000e+02</td>\n",
       "      <td>9.000000e+02</td>\n",
       "    </tr>\n",
       "    <tr>\n",
       "      <th>mean</th>\n",
       "      <td>-3.329297e+16</td>\n",
       "      <td>2.487850e+06</td>\n",
       "    </tr>\n",
       "    <tr>\n",
       "      <th>std</th>\n",
       "      <td>3.587687e+18</td>\n",
       "      <td>5.239183e+06</td>\n",
       "    </tr>\n",
       "    <tr>\n",
       "      <th>min</th>\n",
       "      <td>-9.145437e+18</td>\n",
       "      <td>0.000000e+00</td>\n",
       "    </tr>\n",
       "    <tr>\n",
       "      <th>25%</th>\n",
       "      <td>2.496170e+07</td>\n",
       "      <td>1.687500e+05</td>\n",
       "    </tr>\n",
       "    <tr>\n",
       "      <th>50%</th>\n",
       "      <td>2.724374e+08</td>\n",
       "      <td>5.048500e+05</td>\n",
       "    </tr>\n",
       "    <tr>\n",
       "      <th>75%</th>\n",
       "      <td>2.780532e+08</td>\n",
       "      <td>1.941772e+06</td>\n",
       "    </tr>\n",
       "    <tr>\n",
       "      <th>max</th>\n",
       "      <td>9.186353e+18</td>\n",
       "      <td>4.499000e+07</td>\n",
       "    </tr>\n",
       "  </tbody>\n",
       "</table>\n",
       "</div>"
      ],
      "text/plain": [
       "         product_id         price\n",
       "count  9.000000e+02  9.000000e+02\n",
       "mean  -3.329297e+16  2.487850e+06\n",
       "std    3.587687e+18  5.239183e+06\n",
       "min   -9.145437e+18  0.000000e+00\n",
       "25%    2.496170e+07  1.687500e+05\n",
       "50%    2.724374e+08  5.048500e+05\n",
       "75%    2.780532e+08  1.941772e+06\n",
       "max    9.186353e+18  4.499000e+07"
      ]
     },
     "execution_count": 174,
     "metadata": {},
     "output_type": "execute_result"
    }
   ],
   "source": [
    "df.describe()"
   ]
  },
  {
   "cell_type": "code",
   "execution_count": 175,
   "id": "6f6752c3",
   "metadata": {},
   "outputs": [
    {
     "data": {
      "text/plain": [
       "product_id        0\n",
       "product_name     20\n",
       "category          0\n",
       "price             0\n",
       "image           148\n",
       "image_url        20\n",
       "source            0\n",
       "platform          0\n",
       "dtype: int64"
      ]
     },
     "execution_count": 175,
     "metadata": {},
     "output_type": "execute_result"
    }
   ],
   "source": [
    "df.isnull().sum()"
   ]
  },
  {
   "cell_type": "code",
   "execution_count": 176,
   "id": "75772ffb",
   "metadata": {},
   "outputs": [
    {
     "data": {
      "text/plain": [
       "category\n",
       "Tai nghe              160\n",
       "Sạc dự phòng          160\n",
       "Chuột                 160\n",
       "Đồng hồ thông minh    160\n",
       "Điện thoại            130\n",
       "Loa                   130\n",
       "Name: count, dtype: int64"
      ]
     },
     "execution_count": 176,
     "metadata": {},
     "output_type": "execute_result"
    }
   ],
   "source": [
    "df['category'].value_counts()"
   ]
  },
  {
   "cell_type": "markdown",
   "id": "0646cf8e",
   "metadata": {},
   "source": [
    "# Xử lý giá trị thiếu"
   ]
  },
  {
   "cell_type": "markdown",
   "id": "41b131f1",
   "metadata": {},
   "source": [
    "> Sắp xếp theo thứ tự"
   ]
  },
  {
   "cell_type": "code",
   "execution_count": 177,
   "id": "8b6b9330",
   "metadata": {},
   "outputs": [],
   "source": [
    "df = df.sort_values(by='category').reset_index(drop=True)"
   ]
  },
  {
   "cell_type": "markdown",
   "id": "d6d8af1e",
   "metadata": {},
   "source": [
    "> Xoá các dòng giá trị thiếu ở cột image"
   ]
  },
  {
   "cell_type": "code",
   "execution_count": 178,
   "id": "64b13598",
   "metadata": {},
   "outputs": [],
   "source": [
    "columns_to_check = ['product_name', 'image', 'image_url']\n",
    "df = df.dropna(subset=columns_to_check).copy()\n",
    "\n",
    "df.reset_index(drop=True, inplace=True)"
   ]
  },
  {
   "cell_type": "code",
   "execution_count": 179,
   "id": "b8b5324c",
   "metadata": {},
   "outputs": [
    {
     "data": {
      "text/plain": [
       "product_id      0\n",
       "product_name    0\n",
       "category        0\n",
       "price           0\n",
       "image           0\n",
       "image_url       0\n",
       "source          0\n",
       "platform        0\n",
       "dtype: int64"
      ]
     },
     "execution_count": 179,
     "metadata": {},
     "output_type": "execute_result"
    }
   ],
   "source": [
    "df.isnull().sum()"
   ]
  },
  {
   "cell_type": "markdown",
   "id": "2245936c",
   "metadata": {},
   "source": [
    "# Xử lý giá trị không hợp lệ"
   ]
  },
  {
   "cell_type": "markdown",
   "id": "c13d1d90",
   "metadata": {},
   "source": [
    "> Giữ những dòng có product_id là số dương"
   ]
  },
  {
   "cell_type": "code",
   "execution_count": 180,
   "id": "8b3f6ebf",
   "metadata": {},
   "outputs": [],
   "source": [
    "df = df[df['product_id'] >= 0]"
   ]
  },
  {
   "cell_type": "code",
   "execution_count": 181,
   "id": "bbd97c0f",
   "metadata": {},
   "outputs": [
    {
     "name": "stdout",
     "output_type": "stream",
     "text": [
      "Số dòng còn lại: 608\n"
     ]
    }
   ],
   "source": [
    "print(f\"Số dòng còn lại: {len(df)}\")"
   ]
  },
  {
   "cell_type": "code",
   "execution_count": 182,
   "id": "9c87cb0c",
   "metadata": {},
   "outputs": [],
   "source": [
    "columns_to_check = ['product_name', 'image', 'image_url']\n",
    "df = df.dropna(subset=columns_to_check).copy()\n",
    "\n",
    "df.reset_index(drop=True, inplace=True)"
   ]
  },
  {
   "cell_type": "code",
   "execution_count": 183,
   "id": "8a0aac85",
   "metadata": {},
   "outputs": [
    {
     "data": {
      "text/plain": [
       "product_id      0\n",
       "product_name    0\n",
       "category        0\n",
       "price           0\n",
       "image           0\n",
       "image_url       0\n",
       "source          0\n",
       "platform        0\n",
       "dtype: int64"
      ]
     },
     "execution_count": 183,
     "metadata": {},
     "output_type": "execute_result"
    }
   ],
   "source": [
    "df.isnull().sum()"
   ]
  },
  {
   "cell_type": "markdown",
   "id": "4c9ae15f",
   "metadata": {},
   "source": [
    "# Phân loại dữ liệu (chưa làm)"
   ]
  },
  {
   "cell_type": "markdown",
   "id": "f415dd31",
   "metadata": {},
   "source": [
    "# Xử lý dữ liệu Noise\n",
    "- Các tên sản phẩm không phải là sản phẩm chính trong danh mục"
   ]
  },
  {
   "cell_type": "markdown",
   "id": "ce3750cd",
   "metadata": {},
   "source": [
    "> Lọc sản phẩm không phải sản phẩm chính"
   ]
  },
  {
   "cell_type": "markdown",
   "id": "0c496c3c",
   "metadata": {},
   "source": [
    "***Chuột***"
   ]
  },
  {
   "cell_type": "code",
   "execution_count": 184,
   "id": "679a70dd",
   "metadata": {},
   "outputs": [],
   "source": [
    "#Chuột"
   ]
  },
  {
   "cell_type": "markdown",
   "id": "317e72c7",
   "metadata": {},
   "source": [
    "***Loa***"
   ]
  },
  {
   "cell_type": "code",
   "execution_count": 185,
   "id": "d8ccbc10",
   "metadata": {},
   "outputs": [],
   "source": [
    "#Loa"
   ]
  },
  {
   "cell_type": "code",
   "execution_count": 186,
   "id": "e69aa618",
   "metadata": {},
   "outputs": [],
   "source": [
    "mask_speaker = df[df['category'].str.strip().str.lower() == 'loa'].copy()"
   ]
  },
  {
   "cell_type": "code",
   "execution_count": 187,
   "id": "2bd3774d",
   "metadata": {},
   "outputs": [],
   "source": [
    "mask_speaker['product_name_lower'] = mask_speaker['product_name'].str.lower()\n",
    "\n",
    "accessory_keywords = [\n",
    "    'dây loa', 'chân loa', 'giá treo', 'remote', 'điều khiển', 'adapter', 'củ sạc', 'combo', 'momo', 'jack', 'máy trợ giảng', 'máy nghe nhạc', 'bộ 3', 'học online', \"'bán hàng\", 'phóng thanh'\n",
    "]\n",
    "\n",
    "mask_is_accessory = mask_speaker['product_name_lower'].apply(\n",
    "    lambda name: any(keyword in name for keyword in accessory_keywords)\n",
    ")\n",
    "\n",
    "df_removed = mask_speaker[mask_is_accessory]\n",
    "df_removed.to_excel(\"invalid_speaker.xlsx\", index=False)"
   ]
  },
  {
   "cell_type": "code",
   "execution_count": 188,
   "id": "eaf86de1",
   "metadata": {},
   "outputs": [],
   "source": [
    "df = df[~df['product_name'].isin(df_removed['product_name'])]"
   ]
  },
  {
   "cell_type": "markdown",
   "id": "5994fa8d",
   "metadata": {},
   "source": [
    "***Sạc dự phòng***"
   ]
  },
  {
   "cell_type": "code",
   "execution_count": 189,
   "id": "f7609160",
   "metadata": {},
   "outputs": [
    {
     "name": "stdout",
     "output_type": "stream",
     "text": [
      "200    [DUNG LƯỢNG 30000MAH] SẠC DỰ PHÒNG MẶT GƯƠNG D...\n",
      "201    [FREESHIP TẶNG CÁP SẠC NHANH 39K] PIN DỰ PHÒNG...\n",
      "202    [SẠC MỌI DÒNG ĐIỆN THOẠI] PIN SẠC DỰ PHÒNG 200...\n",
      "203    Lacepulse 丨 mini pin sạc dự phòng với bốn được...\n",
      "204    Sạc Dự Phòng Từ Tính Không Dây Đa Năng 10000mA...\n",
      "205           Pin Sạc Dự Phòng Philips DLP6080WT 8000mAh\n",
      "206                     Xmobile 100W M3 tích hợp đèn Pin\n",
      "207             Xmobile 22.5W DX367 tích hợp Adapter sạc\n",
      "208    Xmobile 22.5W JP312 kèm Cáp Lightning và Type ...\n",
      "209                                    Xmobile 55W JP326\n",
      "Name: product_name, dtype: object\n"
     ]
    }
   ],
   "source": [
    "\n",
    "powerbank_name = df.loc[\n",
    "    df['category'].str.contains('Sạc dự phòng', case=False, na=False),\n",
    "    'product_name'\n",
    "]\n",
    "\n",
    "print(powerbank_name.head(10))"
   ]
  },
  {
   "cell_type": "markdown",
   "id": "0ca7104a",
   "metadata": {},
   "source": [
    "***Tai nghe***"
   ]
  },
  {
   "cell_type": "code",
   "execution_count": 190,
   "id": "9e357639",
   "metadata": {},
   "outputs": [],
   "source": [
    "mask_headphone = df[df['category'].str.strip().str.lower() == 'tai nghe'].copy()"
   ]
  },
  {
   "cell_type": "code",
   "execution_count": 191,
   "id": "069cb6b1",
   "metadata": {},
   "outputs": [],
   "source": [
    "mask_headphone['product_name_lower'] = mask_headphone['product_name'].str.lower()\n",
    "\n",
    "accessory_keywords = [\n",
    "    'núm tai nghe', 'đệm thay thế'\n",
    "]\n",
    "\n",
    "mask_is_accessory = mask_headphone['product_name_lower'].apply(\n",
    "    lambda name: any(keyword in name for keyword in accessory_keywords)\n",
    ")\n",
    "\n",
    "df_removed = mask_headphone[mask_is_accessory]\n",
    "df_removed.to_excel(\"invalid_headphone.xlsx\", index=False)"
   ]
  },
  {
   "cell_type": "code",
   "execution_count": 192,
   "id": "c21df0d4",
   "metadata": {},
   "outputs": [],
   "source": [
    "df = df[~df['product_name'].isin(df_removed['product_name'])]"
   ]
  },
  {
   "cell_type": "markdown",
   "id": "50adb45d",
   "metadata": {},
   "source": [
    "***Điện thoại***"
   ]
  },
  {
   "cell_type": "code",
   "execution_count": 193,
   "id": "cf01934f",
   "metadata": {},
   "outputs": [],
   "source": [
    "#Điện thoại"
   ]
  },
  {
   "cell_type": "markdown",
   "id": "244c8756",
   "metadata": {},
   "source": [
    "***ĐỒNG HỒ THÔNG MINH***"
   ]
  },
  {
   "cell_type": "code",
   "execution_count": 194,
   "id": "206607bf",
   "metadata": {},
   "outputs": [
    {
     "name": "stdout",
     "output_type": "stream",
     "text": [
      "507    20mm/22mm kết nối adapter mắt xích kim loại ch...\n",
      "508    Đồng hồ thông minh Samsung Galaxy Watch 6 dành...\n",
      "509    ese Mesh Band Active 22mm Dây đeo thép không g...\n",
      "510    Mẫu Mới  Đồng Hồ LED Đồng Hồ Thời Trang Cá Tín...\n",
      "511          dây OMEGA hạt gạo to đầu ôm vs bằng đủ sezi\n",
      "512    Dây Cao Su Thay Thế cho Samsung Galaxy Fit 2 (...\n",
      "513    Kính Thực Tế Ảo VR Shinecon SC-G13 Cho Điện Th...\n",
      "514    Dây Silicon dành cho đồng hồ Apple nhiều màu- ...\n",
      "515    Dock Sạc Dành Cho Huawei Watch GT3 / Huawei Wa...\n",
      "516    Dây Đeo Thay Thế Viền Dành Cho Vòng Đeo Tay Th...\n",
      "Name: product_name, dtype: object\n"
     ]
    }
   ],
   "source": [
    "smartwatch_names = df.loc[\n",
    "    df['category'].str.contains('đồng hồ thông minh', case=False, na=False),\n",
    "    'product_name'\n",
    "]\n",
    "\n",
    "print(smartwatch_names.head(10))"
   ]
  },
  {
   "cell_type": "code",
   "execution_count": 195,
   "id": "16777ea0",
   "metadata": {},
   "outputs": [
    {
     "name": "stdout",
     "output_type": "stream",
     "text": [
      "                                          product_name\n",
      "511        dây OMEGA hạt gạo to đầu ôm vs bằng đủ sezi\n",
      "549  Apple Watch Series 10 GPS (Viền nhôm, dây cao su)\n",
      "550    Apple Watch SE 2024 GPS (Viền nhôm, dây cao su)\n",
      "551  Dây Đeo Inox Khóa Nam Châm dành cho Đồng Hồ Th...\n",
      "570  Samsung Galaxy Watch Ultra LTE 47mm (2025) dây...\n",
      "573            Garmin Forerunner 570 47mm dây silicone\n",
      "574  Amazfit Active 2 Square Sapphire 43.3mm dây da...\n",
      "575          Garmin Forerunner 570 42.4mm dây silicone\n",
      "576  Samsung Galaxy Watch Ultra LTE 47mm (2025) dây...\n",
      "577                     Huawei Watch 5 46mm dây cao su\n",
      "578  Samsung Galaxy Watch8 LTE 40mm dây siliconeMẫu...\n",
      "579    Garmin Venu X1 Sapphire 51.2mm dây nylonMẫu mới\n",
      "580            Garmin Forerunner 570 47mm dây silicone\n",
      "581  Amazfit Active 2 Square Sapphire 43.3mm dây da...\n",
      "582          Garmin Forerunner 570 42.4mm dây silicone\n",
      "583           Huawei Watch 5 46mm dây compositeMẫu mới\n",
      "603                     Huawei Watch 5 46mm dây cao su\n",
      "604  Samsung Galaxy Watch8 LTE 40mm dây siliconeMẫu...\n",
      "605           Huawei Watch 5 46mm dây compositeMẫu mới\n",
      "606    Garmin Venu X1 Sapphire 51.2mm dây nylonMẫu mới\n"
     ]
    }
   ],
   "source": [
    "df_watch = df[df['category'].str.strip().str.lower() == 'đồng hồ thông minh'].copy()\n",
    "df_watch_with_day = df_watch[df_watch['product_name'].str.contains('dây')]\n",
    "\n",
    "# Hiển thị kết quả\n",
    "print(df_watch_with_day[['product_name']])"
   ]
  },
  {
   "cell_type": "code",
   "execution_count": 196,
   "id": "49df70fd",
   "metadata": {},
   "outputs": [],
   "source": [
    "import re"
   ]
  },
  {
   "cell_type": "code",
   "execution_count": 197,
   "id": "be131645",
   "metadata": {},
   "outputs": [
    {
     "name": "stdout",
     "output_type": "stream",
     "text": [
      "                                   product_name\n",
      "511                                            \n",
      "549       Apple Watch Series 10 GPS (Viền nhôm,\n",
      "550         Apple Watch SE 2024 GPS (Viền nhôm,\n",
      "551                                            \n",
      "570  Samsung Galaxy Watch Ultra LTE 47mm (2025)\n",
      "573                  Garmin Forerunner 570 47mm\n",
      "574     Amazfit Active 2 Square Sapphire 43.3mm\n",
      "575                Garmin Forerunner 570 42.4mm\n",
      "576  Samsung Galaxy Watch Ultra LTE 47mm (2025)\n",
      "577                         Huawei Watch 5 46mm\n",
      "578              Samsung Galaxy Watch8 LTE 40mm\n",
      "579              Garmin Venu X1 Sapphire 51.2mm\n",
      "580                  Garmin Forerunner 570 47mm\n",
      "581     Amazfit Active 2 Square Sapphire 43.3mm\n",
      "582                Garmin Forerunner 570 42.4mm\n",
      "583                         Huawei Watch 5 46mm\n",
      "603                         Huawei Watch 5 46mm\n",
      "604              Samsung Galaxy Watch8 LTE 40mm\n",
      "605                         Huawei Watch 5 46mm\n",
      "606              Garmin Venu X1 Sapphire 51.2mm\n"
     ]
    }
   ],
   "source": [
    "df_watch_cleaned = df_watch_with_day.copy()\n",
    "\n",
    "df_watch_cleaned['product_name'] = df_watch_cleaned['product_name'].str.replace(\n",
    "    r'dây.*', '', flags=re.IGNORECASE, regex=True\n",
    ").str.strip()\n",
    "\n",
    "print(df_watch_cleaned[['product_name']])"
   ]
  },
  {
   "cell_type": "code",
   "execution_count": 198,
   "id": "646a2c93",
   "metadata": {},
   "outputs": [],
   "source": [
    "df_watch.update(df_watch_cleaned)"
   ]
  },
  {
   "cell_type": "code",
   "execution_count": 199,
   "id": "72e4b07d",
   "metadata": {},
   "outputs": [],
   "source": [
    "df_watch['product_name_lower'] = df_watch['product_name'].str.lower()\n",
    "accessory_keywords = [\n",
    "    'dây', 'cáp sạc', 'dock sạc', 'đế sạc',\n",
    "    'kính cường lực','dán', 'film', 'bảo vệ màn hình', 'ốp bảo vệ',\n",
    "    'case bảo vệ', 'bao da', 'adapter', 'bộ sạc', 'kính thực tế ảo', 'đồng hồ thời trang'\n",
    "]\n",
    "\n",
    "target_product_name = 'Đồng hồ thông minh Samsung Galaxy Watch 6 dành cho nam 2023 có theo dõi  Amoled Luôn hiển thị nhịp tim & theo dõi huyết áp Dây thép không gỉ'.lower()\n",
    "\n",
    "mask_is_accessory = df_watch['product_name_lower'].apply(\n",
    "    lambda name: any(keyword in name for keyword in accessory_keywords) and name != target_product_name\n",
    ")\n",
    "\n",
    "df_removed = df_watch[mask_is_accessory]\n",
    "df_removed.to_excel(\"invalid_watch.xlsx\", index=False)"
   ]
  },
  {
   "cell_type": "code",
   "execution_count": 200,
   "id": "a92ec619",
   "metadata": {},
   "outputs": [],
   "source": [
    "df = df[~df['product_name'].isin(df_removed['product_name'])]"
   ]
  },
  {
   "cell_type": "code",
   "execution_count": 201,
   "id": "62b58c87",
   "metadata": {},
   "outputs": [],
   "source": [
    "df = df[~df['product_name'].str.lower().str.contains(\n",
    "    r'dây omega hạt gạo to đầu ôm vs bằng đủ sezi|dây đeo inox khóa nam châm dành cho đồng hồ thông minh ama tk, s16 và các các mẫu đồng hồ có kích thước dây 42/44/45/49mm hàng chính hãng', na=False)]"
   ]
  },
  {
   "cell_type": "markdown",
   "id": "1ce7f2ff",
   "metadata": {},
   "source": [
    "> Tạo cột code"
   ]
  },
  {
   "cell_type": "code",
   "execution_count": 202,
   "id": "b75caae8",
   "metadata": {},
   "outputs": [],
   "source": [
    "category_prefix = {\n",
    "    \"Điện thoại\": \"SP\",\n",
    "    \"Đồng hồ thông minh\": \"SW\",\n",
    "    \"Tai nghe\": \"HP\",\n",
    "    \"Loa\": \"SP\",\n",
    "    \"Sạc dự phòng\": \"PB\",\n",
    "    \"Chuột\": \"MS\"\n",
    "}"
   ]
  },
  {
   "cell_type": "code",
   "execution_count": 203,
   "id": "adc378a1",
   "metadata": {},
   "outputs": [],
   "source": [
    "# Tạo cột code\n",
    "df['code'] = df['category'].map(category_prefix)\n",
    "\n",
    "# Đưa cột code đứng ngay sau category\n",
    "cols = list(df.columns)\n",
    "category_index = cols.index('category') \n",
    "\n",
    "cols.remove('code')\n",
    "cols.insert(category_index + 1, 'code')"
   ]
  },
  {
   "cell_type": "code",
   "execution_count": 204,
   "id": "53a1b245",
   "metadata": {},
   "outputs": [],
   "source": [
    "df = df[cols]"
   ]
  },
  {
   "cell_type": "markdown",
   "id": "e57e5981",
   "metadata": {},
   "source": [
    "> Tạo cột serial_code"
   ]
  },
  {
   "cell_type": "code",
   "execution_count": 205,
   "id": "6bfe7231",
   "metadata": {},
   "outputs": [],
   "source": [
    "df = df.copy()"
   ]
  },
  {
   "cell_type": "code",
   "execution_count": 206,
   "id": "46f0e7f6",
   "metadata": {},
   "outputs": [],
   "source": [
    "df['serial_code'] = (df.groupby('category').cumcount() + 1).astype(str).str.zfill(2)\n",
    "df['serial_code'] = df['category'].map(category_prefix) + df['serial_code']"
   ]
  },
  {
   "cell_type": "code",
   "execution_count": 207,
   "id": "d7f27228",
   "metadata": {},
   "outputs": [],
   "source": [
    "cols = ['serial_code'] + [col for col in df.columns if col != 'serial_code']\n",
    "df = df[cols]"
   ]
  },
  {
   "cell_type": "code",
   "execution_count": 208,
   "id": "f451899a",
   "metadata": {},
   "outputs": [
    {
     "data": {
      "text/html": [
       "<div>\n",
       "<style scoped>\n",
       "    .dataframe tbody tr th:only-of-type {\n",
       "        vertical-align: middle;\n",
       "    }\n",
       "\n",
       "    .dataframe tbody tr th {\n",
       "        vertical-align: top;\n",
       "    }\n",
       "\n",
       "    .dataframe thead th {\n",
       "        text-align: right;\n",
       "    }\n",
       "</style>\n",
       "<table border=\"1\" class=\"dataframe\">\n",
       "  <thead>\n",
       "    <tr style=\"text-align: right;\">\n",
       "      <th></th>\n",
       "      <th>serial_code</th>\n",
       "      <th>product_id</th>\n",
       "      <th>product_name</th>\n",
       "      <th>category</th>\n",
       "      <th>code</th>\n",
       "      <th>price</th>\n",
       "      <th>image</th>\n",
       "      <th>image_url</th>\n",
       "      <th>source</th>\n",
       "      <th>platform</th>\n",
       "    </tr>\n",
       "  </thead>\n",
       "  <tbody>\n",
       "    <tr>\n",
       "      <th>0</th>\n",
       "      <td>MS01</td>\n",
       "      <td>151794732</td>\n",
       "      <td>Chuột không dây Logitech G304 - Hàng chính hãng</td>\n",
       "      <td>Chuột</td>\n",
       "      <td>MS</td>\n",
       "      <td>740000</td>\n",
       "      <td>Chuột/151794732_4849244250405221918.jpg</td>\n",
       "      <td>https://salt.tikicdn.com/cache/280x280/ts/prod...</td>\n",
       "      <td>https://tiki.vn/chuot-khong-day-logitech-g304-...</td>\n",
       "      <td>Tiki</td>\n",
       "    </tr>\n",
       "    <tr>\n",
       "      <th>1</th>\n",
       "      <td>MS02</td>\n",
       "      <td>554918</td>\n",
       "      <td>Chuột Chơi Game Có Dây Logitech G403 Prodigy 1...</td>\n",
       "      <td>Chuột</td>\n",
       "      <td>MS</td>\n",
       "      <td>969000</td>\n",
       "      <td>Chuột/554918_6653251552233206651.jpg</td>\n",
       "      <td>https://salt.tikicdn.com/cache/280x280/media/c...</td>\n",
       "      <td>https://tiki.vn/chuot-choi-game-co-day-logitec...</td>\n",
       "      <td>Tiki</td>\n",
       "    </tr>\n",
       "    <tr>\n",
       "      <th>2</th>\n",
       "      <td>MS03</td>\n",
       "      <td>1662259</td>\n",
       "      <td>Chuột Quang Có Dây Dùng Cho Game Văn Phòng New...</td>\n",
       "      <td>Chuột</td>\n",
       "      <td>MS</td>\n",
       "      <td>96040</td>\n",
       "      <td>Chuột/1662259_7147061146754508183.jpg</td>\n",
       "      <td>https://salt.tikicdn.com/cache/280x280/ts/prod...</td>\n",
       "      <td>https://tiki.vn/chuot-quang-co-day-dung-cho-ga...</td>\n",
       "      <td>Tiki</td>\n",
       "    </tr>\n",
       "    <tr>\n",
       "      <th>3</th>\n",
       "      <td>MS04</td>\n",
       "      <td>6431175</td>\n",
       "      <td>Chuột game hiệu suất cao Logitech G502 Hero RG...</td>\n",
       "      <td>Chuột</td>\n",
       "      <td>MS</td>\n",
       "      <td>959000</td>\n",
       "      <td>Chuột/6431175_-2761762888004500487.png</td>\n",
       "      <td>https://salt.tikicdn.com/cache/280x280/ts/prod...</td>\n",
       "      <td>https://tiki.vn/chuot-game-hieu-suat-cao-logit...</td>\n",
       "      <td>Tiki</td>\n",
       "    </tr>\n",
       "    <tr>\n",
       "      <th>4</th>\n",
       "      <td>MS05</td>\n",
       "      <td>17587170</td>\n",
       "      <td>Chuột máy tính chuyên phòng Game Newmen G7Plus...</td>\n",
       "      <td>Chuột</td>\n",
       "      <td>MS</td>\n",
       "      <td>222130</td>\n",
       "      <td>Chuột/17587170_7262822802616018413.PNG</td>\n",
       "      <td>https://salt.tikicdn.com/cache/280x280/ts/prod...</td>\n",
       "      <td>https://tiki.vn/chuot-may-tinh-chuyen-phong-ga...</td>\n",
       "      <td>Tiki</td>\n",
       "    </tr>\n",
       "  </tbody>\n",
       "</table>\n",
       "</div>"
      ],
      "text/plain": [
       "  serial_code  product_id                                       product_name  \\\n",
       "0        MS01   151794732    Chuột không dây Logitech G304 - Hàng chính hãng   \n",
       "1        MS02      554918  Chuột Chơi Game Có Dây Logitech G403 Prodigy 1...   \n",
       "2        MS03     1662259  Chuột Quang Có Dây Dùng Cho Game Văn Phòng New...   \n",
       "3        MS04     6431175  Chuột game hiệu suất cao Logitech G502 Hero RG...   \n",
       "4        MS05    17587170  Chuột máy tính chuyên phòng Game Newmen G7Plus...   \n",
       "\n",
       "  category code   price                                    image  \\\n",
       "0    Chuột   MS  740000  Chuột/151794732_4849244250405221918.jpg   \n",
       "1    Chuột   MS  969000     Chuột/554918_6653251552233206651.jpg   \n",
       "2    Chuột   MS   96040    Chuột/1662259_7147061146754508183.jpg   \n",
       "3    Chuột   MS  959000   Chuột/6431175_-2761762888004500487.png   \n",
       "4    Chuột   MS  222130   Chuột/17587170_7262822802616018413.PNG   \n",
       "\n",
       "                                           image_url  \\\n",
       "0  https://salt.tikicdn.com/cache/280x280/ts/prod...   \n",
       "1  https://salt.tikicdn.com/cache/280x280/media/c...   \n",
       "2  https://salt.tikicdn.com/cache/280x280/ts/prod...   \n",
       "3  https://salt.tikicdn.com/cache/280x280/ts/prod...   \n",
       "4  https://salt.tikicdn.com/cache/280x280/ts/prod...   \n",
       "\n",
       "                                              source platform  \n",
       "0  https://tiki.vn/chuot-khong-day-logitech-g304-...     Tiki  \n",
       "1  https://tiki.vn/chuot-choi-game-co-day-logitec...     Tiki  \n",
       "2  https://tiki.vn/chuot-quang-co-day-dung-cho-ga...     Tiki  \n",
       "3  https://tiki.vn/chuot-game-hieu-suat-cao-logit...     Tiki  \n",
       "4  https://tiki.vn/chuot-may-tinh-chuyen-phong-ga...     Tiki  "
      ]
     },
     "execution_count": 208,
     "metadata": {},
     "output_type": "execute_result"
    }
   ],
   "source": [
    "df.head(5)"
   ]
  },
  {
   "cell_type": "code",
   "execution_count": 209,
   "id": "c973c7ce",
   "metadata": {},
   "outputs": [],
   "source": [
    "df.to_excel(\"data_cleaned_1.xlsx\", index=False)"
   ]
  }
 ],
 "metadata": {
  "kernelspec": {
   "display_name": "Python 3",
   "language": "python",
   "name": "python3"
  },
  "language_info": {
   "codemirror_mode": {
    "name": "ipython",
    "version": 3
   },
   "file_extension": ".py",
   "mimetype": "text/x-python",
   "name": "python",
   "nbconvert_exporter": "python",
   "pygments_lexer": "ipython3",
   "version": "3.12.7"
  }
 },
 "nbformat": 4,
 "nbformat_minor": 5
}
