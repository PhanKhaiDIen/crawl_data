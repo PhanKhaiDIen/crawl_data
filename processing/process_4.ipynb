{
 "cells": [
  {
   "cell_type": "code",
   "execution_count": 1,
   "id": "60b169c3",
   "metadata": {},
   "outputs": [],
   "source": [
    "import pandas as pd\n",
    "import numpy as np"
   ]
  },
  {
   "cell_type": "code",
   "execution_count": 2,
   "id": "ef89e276",
   "metadata": {},
   "outputs": [],
   "source": [
    "file_path = \"processing_data_3.xlsx\"\n",
    "df = pd.read_excel(file_path)"
   ]
  },
  {
   "cell_type": "code",
   "execution_count": 3,
   "id": "903662b9",
   "metadata": {},
   "outputs": [],
   "source": [
    "# Nhãn phân loại giá\n",
    "df[\"price_level\"] = pd.cut(\n",
    "    df[\"price\"],\n",
    "    bins=[0, 3_000_000, 10_000_000, 30_000_000, df[\"price\"].max()],\n",
    "    labels=[\"Low\", \"Mid\", \"High\", \"Premium\"]\n",
    ")\n",
    "\n",
    "# Nhãn khuyến mãi\n",
    "df[\"discount_status\"] = df[\"has_discount\"].apply(lambda x: \"Discounted\" if x == 1 else \"No Discount\")\n",
    "\n",
    "# Nhãn độ phổ biến theo số lượng bán\n",
    "df[\"popularity\"] = pd.cut(\n",
    "    df[\"quantity_sold_value\"],\n",
    "    bins=[-1, 100, 1000, 10_000, df[\"quantity_sold_value\"].max()],\n",
    "    labels=[\"Low\", \"Medium\", \"High\", \"Very High\"]\n",
    ")\n",
    "\n",
    "rating_clean = pd.to_numeric(df[\"rating_average\"], errors=\"coerce\")\n",
    "rating_clean[(rating_clean < 0) | (rating_clean > 5)] = np.nan\n",
    "\n",
    "# Nhãn chất lượng theo rating (dựa trên giá trị đã làm sạch)\n",
    "df[\"quality_label\"] = pd.cut(\n",
    "    rating_clean,\n",
    "    bins=[0, 3, 4, 5],\n",
    "    labels=[\"Poor\", \"Good\", \"Excellent\"],\n",
    "    include_lowest=True\n",
    ")\n",
    "\n",
    "# Nhóm thương hiệu\n",
    "big_brands = [\"Apple\", \"Samsung\", \"OPPO\", \"Xiaomi\", \"Vivo\", \"Realme\"]\n",
    "df[\"brand_type\"] = df[\"brand\"].apply(lambda x: \"Big Brand\" if str(x).strip() in big_brands else \"Other\")"
   ]
  },
  {
   "cell_type": "code",
   "execution_count": 4,
   "id": "c7d62104",
   "metadata": {},
   "outputs": [],
   "source": [
    "def get_dup_status(row):\n",
    "    if not row[\"is_duplicate\"]:\n",
    "        return \"Unique\"\n",
    "    elif row[\"dup_representative\"] == \"True\":\n",
    "        return \"Duplicate Representative\"\n",
    "    else:\n",
    "        return \"Duplicate Copy\"\n",
    "\n",
    "df[\"dup_status\"] = df.apply(get_dup_status, axis=1)"
   ]
  },
  {
   "cell_type": "code",
   "execution_count": 5,
   "id": "a9fd3dfe",
   "metadata": {},
   "outputs": [
    {
     "name": "stdout",
     "output_type": "stream",
     "text": [
      "[INFO] Đã lưu processing_data_4.xlsx với các cột enriched mới\n"
     ]
    }
   ],
   "source": [
    "df.to_excel(\"processing_data_4.xlsx\", index=False)\n",
    "print(\"[INFO] Đã lưu processing_data_4.xlsx với các cột enriched mới\")"
   ]
  }
 ],
 "metadata": {
  "kernelspec": {
   "display_name": "Python 3",
   "language": "python",
   "name": "python3"
  },
  "language_info": {
   "codemirror_mode": {
    "name": "ipython",
    "version": 3
   },
   "file_extension": ".py",
   "mimetype": "text/x-python",
   "name": "python",
   "nbconvert_exporter": "python",
   "pygments_lexer": "ipython3",
   "version": "3.13.3"
  }
 },
 "nbformat": 4,
 "nbformat_minor": 5
}
