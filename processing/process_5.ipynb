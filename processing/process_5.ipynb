{
 "cells": [
  {
   "cell_type": "code",
   "execution_count": 1,
   "id": "60b169c3",
   "metadata": {},
   "outputs": [],
   "source": [
    "import pandas as pd"
   ]
  },
  {
   "cell_type": "code",
   "execution_count": 2,
   "id": "ef89e276",
   "metadata": {},
   "outputs": [],
   "source": [
    "file_path = \"processing_data_4.xlsx\"\n",
    "df = pd.read_excel(file_path)"
   ]
  },
  {
   "cell_type": "code",
   "execution_count": 3,
   "id": "903662b9",
   "metadata": {},
   "outputs": [],
   "source": [
    "# ===== Chọn cột quan trọng (giữ lại) =====\n",
    "columns_keep = [\n",
    "    # Thông tin cơ bản\n",
    "    \"visible_impression_info_amplitude_category_l1_name\", \"id\", \"seller_id\", \"name\", \"brand\", \"price\", \"currency\",\n",
    "    # Các cột enriched\n",
    "    \"price_level\", \"popularity\", \"quality_label\", \"brand_type\", \"dup_status\",\n",
    "    # Thông tin bán hàng (không lấy discount_percent_clean)\n",
    "    \"rating_average\", \"quantity_sold_value\",\n",
    "    # Cluster/Feature\n",
    "    \"cluster_id\", \"pca1\", \"pca2\"\n",
    "]"
   ]
  },
  {
   "cell_type": "code",
   "execution_count": 4,
   "id": "da018f88",
   "metadata": {},
   "outputs": [],
   "source": [
    "df_clean = df[columns_keep].copy()"
   ]
  },
  {
   "cell_type": "code",
   "execution_count": 5,
   "id": "c7d62104",
   "metadata": {},
   "outputs": [],
   "source": [
    "rename_map = {\n",
    "    \"visible_impression_info_amplitude_category_l1_name\": \"Category\",\n",
    "    \"id\": \"ProductID\",\n",
    "    \"seller_id\": \"SellerID\",\n",
    "    \"name\": \"Title\",\n",
    "    \"brand\": \"Brand\",        # <— thêm mapping brand\n",
    "    \"price\": \"Price\",\n",
    "    \"currency\": \"Currency\",\n",
    "    \"price_level\": \"PriceSegment\",\n",
    "    \"popularity\": \"PopularitySegment\",\n",
    "    \"quality_label\": \"RatingSegment\",\n",
    "    \"brand_type\": \"BrandCategory\",\n",
    "    \"dup_status\": \"DuplicateStatus\",\n",
    "    \"rating_average\": \"RatingAverage\",\n",
    "    \"quantity_sold_value\": \"QuantitySold\",\n",
    "    \"cluster_id\": \"ClusterID\",\n",
    "    \"pca1\": \"FeaturePCA1\",\n",
    "    \"pca2\": \"FeaturePCA2\"\n",
    "}"
   ]
  },
  {
   "cell_type": "code",
   "execution_count": 6,
   "id": "a64df62a",
   "metadata": {},
   "outputs": [],
   "source": [
    "df_clean = df_clean.rename(columns=rename_map)"
   ]
  },
  {
   "cell_type": "code",
   "execution_count": 7,
   "id": "3af0c015",
   "metadata": {},
   "outputs": [],
   "source": [
    "df_clean = df_clean.dropna(subset=[\"ProductID\", \"Title\", \"Brand\", \"Price\"])"
   ]
  },
  {
   "cell_type": "code",
   "execution_count": 8,
   "id": "a9fd3dfe",
   "metadata": {},
   "outputs": [
    {
     "name": "stdout",
     "output_type": "stream",
     "text": [
      "[INFO] Đã lưu processing_data_5.xlsx với dữ liệu đã làm sạch & dễ hiểu\n"
     ]
    }
   ],
   "source": [
    "df_clean.to_excel(\"processing_data_5.xlsx\", index=False)\n",
    "print(\"[INFO] Đã lưu processing_data_5.xlsx với dữ liệu đã làm sạch & dễ hiểu\")"
   ]
  }
 ],
 "metadata": {
  "kernelspec": {
   "display_name": "Python 3",
   "language": "python",
   "name": "python3"
  },
  "language_info": {
   "codemirror_mode": {
    "name": "ipython",
    "version": 3
   },
   "file_extension": ".py",
   "mimetype": "text/x-python",
   "name": "python",
   "nbconvert_exporter": "python",
   "pygments_lexer": "ipython3",
   "version": "3.13.3"
  }
 },
 "nbformat": 4,
 "nbformat_minor": 5
}
