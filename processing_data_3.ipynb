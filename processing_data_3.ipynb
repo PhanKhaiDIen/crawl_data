{
 "cells": [
  {
   "cell_type": "markdown",
   "id": "1643fe0a",
   "metadata": {},
   "source": [
    "## Normalization Data\n",
    "\n",
    "##### <strong>Điều chỉnh lại thang đo (scale) của các đặc trưng (features) số trong bộ dữ liệu</strong>\n",
    "\n",
    "x′= x − min(x) / max(x) − min(x)\n",
    "\t​\n",
    "Trong đó:\n",
    "x: giá trị ban đầu.\n",
    "\n",
    "min(x): giá trị nhỏ nhất trong cột đó.\n",
    "\n",
    "max(x): giá trị lớn nhất trong cột đó.\n",
    "\n",
    "x': giá trị mới sau khi đã được chuẩn hóa.\n",
    "\n",
    "##### <strong>Kỹ thuật Min-Max Scaling: Biến đổi giá trị của từng cột số để chúng nằm trong một phạm vi cụ thể, thường là từ 0 đến 1.</strong>\n",
    "\n",
    "##### <strong>Việc chuẩn hóa dữ liệu số có các lợi ích:</strong>\n",
    "- Đưa các đặc trưng về cùng thang đo: ất cả đưa về khoảng [0,1], giúp mô hình học cân bằng hơn.\n",
    "- Cải thiện hiệu quả thuật toán: Nếu dữ liệu không chuẩn hóa, một cột có giá trị lớn sẽ lấn át các cột nhỏ --> Normalization giúp tăng độ chính xác\n",
    "- Dễ dàng so sánh & trực quan hóa: Tất cả giá trị đều nằm trong [0,1] --> Hữu ích khi phân tích mối quan hệ giữa giá, thương hiệu, và ảnh.\n",
    "\n",
    "#### <strong>==> Normalization không thay đổi bản chất dữ liệu, nhưng giúp mô hình công bằng hơn, chính xác hơn, và dễ kết hợp nhiều loại dữ liệu trong đề tài.</strong>"
   ]
  },
  {
   "cell_type": "code",
   "execution_count": 1,
   "id": "3b395efa",
   "metadata": {},
   "outputs": [
    {
     "name": "stdout",
     "output_type": "stream",
     "text": [
      "Đã chuẩn hóa dữ liệu và lưu thành công vào 'normalized_data.xlsx'\n"
     ]
    }
   ],
   "source": [
    "import pandas as pd\n",
    "from sklearn.preprocessing import MinMaxScaler\n",
    "\n",
    "file_path = \"transformation_data.xlsx\"\n",
    "df = pd.read_excel(file_path)\n",
    "\n",
    "numeric_cols = [\"price\", \"rating_average\", \"quantity_sold_value\", \"brand_freq\"]\n",
    "\n",
    "scaler = MinMaxScaler()\n",
    "\n",
    "df_norm = df.copy()\n",
    "df_norm[numeric_cols] = scaler.fit_transform(df[numeric_cols])\n",
    "\n",
    "df_norm.to_excel(\"normalized_data.xlsx\", index=False)\n",
    "\n",
    "print(\"Đã chuẩn hóa dữ liệu và lưu thành công vào 'normalized_data.xlsx'\")"
   ]
  }
 ],
 "metadata": {
  "kernelspec": {
   "display_name": "base",
   "language": "python",
   "name": "python3"
  },
  "language_info": {
   "codemirror_mode": {
    "name": "ipython",
    "version": 3
   },
   "file_extension": ".py",
   "mimetype": "text/x-python",
   "name": "python",
   "nbconvert_exporter": "python",
   "pygments_lexer": "ipython3",
   "version": "3.12.7"
  }
 },
 "nbformat": 4,
 "nbformat_minor": 5
}
