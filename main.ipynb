{
 "cells": [
  {
   "cell_type": "code",
   "execution_count": 5,
   "id": "c66842d0",
   "metadata": {},
   "outputs": [
    {
     "name": "stdout",
     "output_type": "stream",
     "text": [
      "🔎 Đang lấy trang 1 từ danh mục: Sạc dự phòng\n",
      "🔎 Đang lấy trang 2 từ danh mục: Sạc dự phòng\n",
      "🔎 Đang lấy trang 3 từ danh mục: Sạc dự phòng\n",
      "✅ Đã lưu 0 sản phẩm vào tiki_sac_du_phong.csv\n"
     ]
    }
   ],
   "source": [
    "import requests\n",
    "import csv\n",
    "import time\n",
    "\n",
    "headers = {\n",
    "    'User-Agent': 'Mozilla/5.0'\n",
    "}\n",
    "\n",
    "def crawl_powerbanks_from_category(max_pages=3):\n",
    "    all_products = []\n",
    "    category_name = \"Sạc dự phòng\"\n",
    "    category_id = 17311  # Danh mục chính xác trên Tiki\n",
    "\n",
    "    for page in range(1, max_pages + 1):\n",
    "        print(f\"🔎 Đang lấy trang {page} từ danh mục: {category_name}\")\n",
    "\n",
    "        url = \"https://tiki.vn/api/personalish/v1/blocks/listings\"\n",
    "        params = {\n",
    "            \"limit\": 40,\n",
    "            \"category\": category_id,\n",
    "            \"page\": page,\n",
    "        }\n",
    "\n",
    "        response = requests.get(url, headers=headers, params=params)\n",
    "\n",
    "        if response.status_code != 200:\n",
    "            print(f\"❌ Không thể lấy dữ liệu trang {page} – mã {response.status_code}\")\n",
    "            print(\"↪ Nội dung trả về:\", response.text[:300])\n",
    "            continue\n",
    "\n",
    "        data = response.json()\n",
    "        products = data.get(\"data\", [])\n",
    "\n",
    "        for p in products:\n",
    "            product = {\n",
    "                \"category\": category_name,\n",
    "                \"product_name\": p.get(\"name\"),\n",
    "                \"price\": p.get(\"price\"),\n",
    "                \"image\": p.get(\"thumbnail_url\"),\n",
    "                \"source\": f\"https://tiki.vn/{p.get('url_path')}\"\n",
    "            }\n",
    "            all_products.append(product)\n",
    "\n",
    "        time.sleep(1)  # tránh bị chặn IP\n",
    "\n",
    "    return all_products\n",
    "\n",
    "\n",
    "# Thu thập sản phẩm\n",
    "products = crawl_powerbanks_from_category(max_pages=3)\n",
    "\n",
    "# Ghi file CSV\n",
    "with open(\"tiki_sac_du_phong.csv\", \"w\", newline=\"\", encoding=\"utf-8\") as f:\n",
    "    writer = csv.DictWriter(f, fieldnames=[\"category\", \"product_name\", \"price\", \"image\", \"source\"])\n",
    "    writer.writeheader()\n",
    "    writer.writerows(products)\n",
    "\n",
    "print(f\"✅ Đã lưu {len(products)} sản phẩm vào tiki_sac_du_phong.csv\")\n"
   ]
  }
 ],
 "metadata": {
  "kernelspec": {
   "display_name": ".venv",
   "language": "python",
   "name": "python3"
  },
  "language_info": {
   "codemirror_mode": {
    "name": "ipython",
    "version": 3
   },
   "file_extension": ".py",
   "mimetype": "text/x-python",
   "name": "python",
   "nbconvert_exporter": "python",
   "pygments_lexer": "ipython3",
   "version": "3.13.3"
  }
 },
 "nbformat": 4,
 "nbformat_minor": 5
}
