{
 "cells": [
  {
   "cell_type": "code",
   "execution_count": null,
   "id": "c66842d0",
   "metadata": {},
   "outputs": [
    {
     "name": "stdout",
     "output_type": "stream",
     "text": [
      "🔎 Đang lấy trang 1 từ danh mục: Sạc dự phòng\n",
      "🔎 Đang lấy trang 2 từ danh mục: Sạc dự phòng\n",
      "🔎 Đang lấy trang 3 từ danh mục: Sạc dự phòng\n",
      "✅ Đã lưu 0 sản phẩm vào tiki_sac_du_phong.csv\n"
     ]
    }
   ],
   "source": [
    "from selenium import webdriver\n",
    "from selenium.webdriver.chrome.options import Options\n",
    "from selenium.webdriver.common.by import By\n",
    "import csv\n",
    "import time\n",
    "\n",
    "def scrape_tiki_powerbanks():\n",
    "    # Cấu hình trình duyệt headless (chạy nền)\n",
    "    options = Options()\n",
    "    options.add_argument(\"--headless\")  # Xoá dòng này nếu muốn xem trình duyệt chạy\n",
    "    options.add_argument(\"--disable-gpu\")\n",
    "    options.add_argument(\"--window-size=1920,1080\")\n",
    "    driver = webdriver.Chrome(options=options)  # Nếu bạn có chromedriver ở nơi khác, thêm: executable_path=\"...\"\n",
    "\n",
    "    # Truy cập trang tìm kiếm sạc dự phòng\n",
    "    driver.get(\"https://tiki.vn/search?q=s%E1%BA%A1c%20d%E1%BB%B1%20ph%C3%B2ng\")\n",
    "    time.sleep(5)  # Chờ trang load\n",
    "\n",
    "    # Cuộn xuống để load thêm sản phẩm\n",
    "    for _ in range(3):  # cuộn 3 lần\n",
    "        driver.execute_script(\"window.scrollBy(0, document.body.scrollHeight);\")\n",
    "        time.sleep(2)\n",
    "\n",
    "    # Tìm các thẻ sản phẩm\n",
    "    products = driver.find_elements(By.CSS_SELECTOR, 'a[data-view-id=\"product_list_item\"]')\n",
    "\n",
    "    results = []\n",
    "    for p in products:\n",
    "        try:\n",
    "            name = p.find_element(By.CSS_SELECTOR, 'div.title').text\n",
    "            price = p.find_element(By.CSS_SELECTOR, 'div.price-discount__price').text\n",
    "            image = p.find_element(By.TAG_NAME, 'img').get_attribute(\"src\")\n",
    "            url = p.get_attribute(\"href\")\n",
    "            results.append({\n",
    "                \"category\": \"Sạc dự phòng\",\n",
    "                \"product_name\": name,\n",
    "                \"price\": price,\n",
    "                \"image\": image,\n",
    "                \"source\": url\n",
    "            })\n",
    "        except:\n",
    "            continue\n",
    "\n",
    "    driver.quit()\n",
    "\n",
    "    # Lưu vào CSV\n",
    "    with open(\"tiki_sac_du_phong_selenium.csv\", \"w\", newline=\"\", encoding=\"utf-8\") as f:\n",
    "        writer = csv.DictWriter(f, fieldnames=[\"category\", \"product_name\", \"price\", \"image\", \"source\"])\n",
    "        writer.writeheader()\n",
    "        writer.writerows(results)\n",
    "\n",
    "    print(f\"✅ Đã lưu {len(results)} sản phẩm từ Tiki vào tiki_sac_du_phong_selenium.csv\")\n",
    "\n",
    "# Gọi hàm\n",
    "scrape_tiki_powerbanks()\n"
   ]
  }
 ],
 "metadata": {
  "kernelspec": {
   "display_name": ".venv",
   "language": "python",
   "name": "python3"
  },
  "language_info": {
   "codemirror_mode": {
    "name": "ipython",
    "version": 3
   },
   "file_extension": ".py",
   "mimetype": "text/x-python",
   "name": "python",
   "nbconvert_exporter": "python",
   "pygments_lexer": "ipython3",
   "version": "3.13.3"
  }
 },
 "nbformat": 4,
 "nbformat_minor": 5
}
