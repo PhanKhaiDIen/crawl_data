{
 "cells": [
  {
   "cell_type": "code",
   "execution_count": 7,
   "id": "7e68b263",
   "metadata": {},
   "outputs": [],
   "source": [
    "import os\n",
    "import requests\n",
    "import pandas as pd\n",
    "import time\n",
    "import random"
   ]
  },
  {
   "cell_type": "markdown",
   "id": "81d71ddb",
   "metadata": {},
   "source": [
    "# Cấu hình"
   ]
  },
  {
   "cell_type": "code",
   "execution_count": 8,
   "id": "f30de240",
   "metadata": {},
   "outputs": [],
   "source": [
    "HEADERS = {\n",
    "    'User-Agent': 'Mozilla/5.0',\n",
    "    'Accept': 'application/json, text/plain, */*',\n",
    "    'Accept-Language': 'en-US,en;q=0.9'\n",
    "}\n",
    "IMAGE_DIR = 'images'\n",
    "os.makedirs(IMAGE_DIR, exist_ok=True)\n",
    "MAX_PAGES = 2\n",
    "PRODUCTS_PER_PAGE = 40\n",
    "DELAY_RANGE = (1.0, 2.5)"
   ]
  },
  {
   "cell_type": "markdown",
   "id": "5b77174e",
   "metadata": {},
   "source": [
    "# Danh sách mục cào"
   ]
  },
  {
   "cell_type": "code",
   "execution_count": 9,
   "id": "c76b3d65",
   "metadata": {},
   "outputs": [],
   "source": [
    "CATEGORIES = [\n",
    "    {\"id\": 1795, \"name\": \"Smart Phone\"},\n",
    "    {\"id\": 1805, \"name\": \"Speaker\"},\n",
    "    {\"id\": 1811, \"name\": \"Headphones\"},\n",
    "    {\"id\": 1821, \"name\": \"Power Bank\"},\n",
    "    {\"id\": 3428, \"name\": \"Gaming Mouse\"},\n",
    "    {\"id\": 8039, \"name\": \"Smart Watch\"},\n",
    "]"
   ]
  },
  {
   "cell_type": "markdown",
   "id": "678eac5b",
   "metadata": {},
   "source": [
    "# Tải ảnh"
   ]
  },
  {
   "cell_type": "code",
   "execution_count": 10,
   "id": "7ea659c5",
   "metadata": {},
   "outputs": [],
   "source": [
    "def download_image(image_url, product_id, category_dir):\n",
    "    if not image_url or not product_id:\n",
    "        return \"\"\n",
    "    if image_url.startswith(\"//\"):\n",
    "        image_url = \"https:\" + image_url\n",
    "    try:\n",
    "        response = requests.get(image_url, headers=HEADERS, timeout=10)\n",
    "        response.raise_for_status()\n",
    "        filename = f\"{product_id}.jpg\"\n",
    "        filepath = os.path.join(category_dir, filename)\n",
    "        with open(filepath, \"wb\") as f:\n",
    "            f.write(response.content)\n",
    "        return os.path.join(os.path.basename(category_dir), filename)  # relative path\n",
    "    except Exception as e:\n",
    "        print(f\"⚠️ Error downloading image for {product_id}: {e}\")\n",
    "        return \"\""
   ]
  },
  {
   "cell_type": "markdown",
   "id": "59f9786d",
   "metadata": {},
   "source": [
    "# Cào sản phẩm từ 1 danh mục"
   ]
  },
  {
   "cell_type": "code",
   "execution_count": 11,
   "id": "e45dbd62",
   "metadata": {},
   "outputs": [],
   "source": [
    "def crawl_category(category_id, category_name):\n",
    "    records = []\n",
    "    category_dir = os.path.join(IMAGE_DIR, category_name.replace(\" \", \"_\"))\n",
    "    os.makedirs(category_dir, exist_ok=True)\n",
    "\n",
    "    for page in range(1, MAX_PAGES + 1):\n",
    "        print(f\"🔎 Crawling '{category_name}' - Page {page}\")\n",
    "        url = \"https://tiki.vn/api/personalish/v1/blocks/listings\"\n",
    "        params = {\n",
    "            \"limit\": PRODUCTS_PER_PAGE,\n",
    "            \"category\": category_id,\n",
    "            \"page\": page,\n",
    "            \"sort_by\": \"popularity\"\n",
    "        }\n",
    "\n",
    "        try:\n",
    "            response = requests.get(url, headers=HEADERS, params=params, timeout=15)\n",
    "            if response.status_code != 200:\n",
    "                print(f\"❌ Error {response.status_code}\")\n",
    "                break\n",
    "            data = response.json().get(\"data\", [])\n",
    "            if not data:\n",
    "                print(\"⛔ No more products.\")\n",
    "                break\n",
    "\n",
    "            for item in data:\n",
    "                product_id = str(item.get(\"id\", \"\"))\n",
    "                name = item.get(\"name\", \"no_name\")\n",
    "                price = item.get(\"price\", 0)\n",
    "                image_url = item.get(\"thumbnail_url\", \"\")\n",
    "                image_file = download_image(image_url, product_id, category_dir)\n",
    "\n",
    "                records.append({\n",
    "                    \"product_id\": product_id,\n",
    "                    \"category\": category_name,\n",
    "                    \"product_name\": name,\n",
    "                    \"price\": price,\n",
    "                    \"image\": image_file,\n",
    "                    \"image_url\": image_url,\n",
    "                    \"source\": f\"https://tiki.vn/{item.get('url_path', '')}\"\n",
    "                })\n",
    "\n",
    "            time.sleep(random.uniform(*DELAY_RANGE))\n",
    "\n",
    "        except Exception as e:\n",
    "            print(f\"🚨 Exception: {e}\")\n",
    "            break\n",
    "    return records"
   ]
  },
  {
   "cell_type": "markdown",
   "id": "9748beb6",
   "metadata": {},
   "source": [
    "# Chạy và lưu file"
   ]
  },
  {
   "cell_type": "code",
   "execution_count": 12,
   "id": "5518279a",
   "metadata": {},
   "outputs": [
    {
     "name": "stdout",
     "output_type": "stream",
     "text": [
      "🔎 Crawling 'Smart Phone' - Page 1\n",
      "🔎 Crawling 'Smart Phone' - Page 2\n",
      "🔎 Crawling 'Speaker' - Page 1\n",
      "🔎 Crawling 'Speaker' - Page 2\n",
      "🔎 Crawling 'Headphones' - Page 1\n",
      "🔎 Crawling 'Headphones' - Page 2\n",
      "🔎 Crawling 'Power Bank' - Page 1\n",
      "🔎 Crawling 'Power Bank' - Page 2\n",
      "🔎 Crawling 'Gaming Mouse' - Page 1\n",
      "🔎 Crawling 'Gaming Mouse' - Page 2\n",
      "🔎 Crawling 'Smart Watch' - Page 1\n",
      "🔎 Crawling 'Smart Watch' - Page 2\n",
      "\n",
      "✅ Saved 480 products to 'data.xlsx'\n",
      "⏱️ Total crawl time: 57.87 seconds\n"
     ]
    }
   ],
   "source": [
    "if __name__ == \"__main__\":\n",
    "    start_time = time.time()\n",
    "\n",
    "    all_products = []\n",
    "    for cat in CATEGORIES:\n",
    "        products = crawl_category(cat[\"id\"], cat[\"name\"])\n",
    "        all_products.extend(products)\n",
    "\n",
    "    # Export to Excel\n",
    "    df = pd.DataFrame(all_products)\n",
    "    df.to_excel(\"data.xlsx\", index=False)\n",
    "\n",
    "    end_time = time.time()\n",
    "    elapsed = end_time - start_time\n",
    "\n",
    "    print(f\"\\n✅ Saved {len(all_products)} products to 'data.xlsx'\")\n",
    "    print(f\"⏱️ Total crawl time: {elapsed:.2f} seconds\")"
   ]
  }
 ],
 "metadata": {
  "kernelspec": {
   "display_name": "Python 3",
   "language": "python",
   "name": "python3"
  },
  "language_info": {
   "codemirror_mode": {
    "name": "ipython",
    "version": 3
   },
   "file_extension": ".py",
   "mimetype": "text/x-python",
   "name": "python",
   "nbconvert_exporter": "python",
   "pygments_lexer": "ipython3",
   "version": "3.12.7"
  }
 },
 "nbformat": 4,
 "nbformat_minor": 5
}
